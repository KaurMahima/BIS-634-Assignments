{
 "cells": [
  {
   "cell_type": "markdown",
   "id": "de10ab71",
   "metadata": {},
   "source": [
    "## Excerise 4"
   ]
  },
  {
   "cell_type": "markdown",
   "id": "430538fb",
   "metadata": {},
   "source": [
    "Question: Download the MeSH data desc2022.xml from https://nlmpubs.nlm.nih.gov/projects/mesh/MESH_FILES/xmlmesh/ (Links to an external site.) (A guide to MeSH XML is available at: https://www.nlm.nih.gov/mesh/xmlmesh.html (Links to an external site.)) You'll probably want to look at a snippet of the file to get a sense of how it's written."
   ]
  },
  {
   "cell_type": "code",
   "execution_count": 112,
   "id": "a5d08cd2",
   "metadata": {},
   "outputs": [],
   "source": [
    "## importing element tree under the alias of ET \n",
    "import xml.etree.ElementTree as ET"
   ]
  },
  {
   "cell_type": "code",
   "execution_count": 113,
   "id": "254cd43c",
   "metadata": {},
   "outputs": [
    {
     "data": {
      "text/plain": [
       "<xml.etree.ElementTree.ElementTree at 0x7f7f035a9a60>"
      ]
     },
     "execution_count": 113,
     "metadata": {},
     "output_type": "execute_result"
    }
   ],
   "source": [
    "# Passing the path of the xml document to enable the parsing process\n",
    "\n",
    "tree = ET.parse('/Users/mahimakaur/Desktop/desc2022.xml')\n",
    "tree"
   ]
  },
  {
   "cell_type": "code",
   "execution_count": 114,
   "id": "4bb6cd6d",
   "metadata": {},
   "outputs": [
    {
     "data": {
      "text/plain": [
       "<Element 'DescriptorRecordSet' at 0x7f7f0d70bf40>"
      ]
     },
     "execution_count": 114,
     "metadata": {},
     "output_type": "execute_result"
    }
   ],
   "source": [
    "root = tree.getroot()\n",
    "root"
   ]
  },
  {
   "cell_type": "markdown",
   "id": "358a5c44",
   "metadata": {},
   "source": [
    "**Part1**: Write Python code that reads the XML and reports: the DescriptorName associated with DescriptorUI D007154 (the text of the name is nested inside a String tag). "
   ]
  },
  {
   "cell_type": "code",
   "execution_count": 115,
   "id": "1095f34f",
   "metadata": {},
   "outputs": [],
   "source": [
    "## the below function reads the XML file and reports the DescriptorName associated with it's unqiue DescriptorUI\n",
    "\n",
    "def DescriptorName(DescriptorUI):\n",
    "    lst = []\n",
    "    i = -1\n",
    "    while True:\n",
    "        i += 1\n",
    "        try:\n",
    "            lst.append(root[i][0].text)\n",
    "        except:\n",
    "            break\n",
    "    length = len(lst)\n",
    "    for i in range(length):\n",
    "        if(root[i][0].text == DescriptorUI):\n",
    "            parent_index = i\n",
    "    return root[parent_index][1].find(\"String\").text"
   ]
  },
  {
   "cell_type": "code",
   "execution_count": 116,
   "id": "3f7047c9",
   "metadata": {},
   "outputs": [
    {
     "data": {
      "text/plain": [
       "'Immune System Diseases'"
      ]
     },
     "execution_count": 116,
     "metadata": {},
     "output_type": "execute_result"
    }
   ],
   "source": [
    "##Testing the function \n",
    "\n",
    "DescriptorName(\"D007154\")"
   ]
  },
  {
   "cell_type": "markdown",
   "id": "09b9f9ad",
   "metadata": {},
   "source": [
    "**Part2**: Write Python code that reads the XML and reports: the DescriptorUI (MeSH Unique ID) associated with DescriptorName \"Nervous System Diseases\"."
   ]
  },
  {
   "cell_type": "code",
   "execution_count": 117,
   "id": "8911819a",
   "metadata": {},
   "outputs": [],
   "source": [
    "## the below function reads the XML file and reports the DescriptorUI which starts with D0 associated with the DescriptorName \n",
    "\n",
    "def DescriptorUI(DescriptorName):\n",
    "    lst = []\n",
    "    i = -1\n",
    "    while True:\n",
    "        i += 1\n",
    "        try:\n",
    "            lst.append(root[i][1].find(\"String\").text)\n",
    "        except:\n",
    "            break\n",
    "    length = len(lst)\n",
    "    for i in range(length):\n",
    "        if(root[i][1].find(\"String\").text == DescriptorName):\n",
    "            parent_index = i\n",
    "            break\n",
    "    return root[parent_index][0].text"
   ]
  },
  {
   "cell_type": "code",
   "execution_count": 118,
   "id": "ccb33425",
   "metadata": {},
   "outputs": [
    {
     "name": "stdout",
     "output_type": "stream",
     "text": [
      "D009422\n"
     ]
    }
   ],
   "source": [
    "## Testing the function\n",
    "\n",
    "Descriptor_UI = DescriptorUI(\"Nervous System Diseases\")\n",
    "print(Descriptor_UI)"
   ]
  },
  {
   "cell_type": "markdown",
   "id": "ed1d82c1",
   "metadata": {},
   "source": [
    "**Part3**: Write Python code that reads the XML and reports: The DescriptorNames of items in the MeSH hierarchy that are descendants of both \"Nervous System Diseases\" and D007154. (That is, each item is a subtype of both, as defined by its TreeNumber(s).)"
   ]
  },
  {
   "cell_type": "code",
   "execution_count": 119,
   "id": "c49212b8",
   "metadata": {},
   "outputs": [],
   "source": [
    "## the below function finds the treeNumber associated with the respective DescriptorName or DescriptorUI\n",
    "\n",
    "def treenumber(ui_or_name):\n",
    "    if not 'D0' in ui_or_name:  \n",
    "        ui_or_name = DescriptorUI(ui_or_name) ##Using the previous function\n",
    "    for descendants in root:\n",
    "        if descendants[0].text == ui_or_name:\n",
    "            for concept in descendants.iter('TreeNumberList'): #the iter method, which will search for matches among an element's children, grandchildren, and so on\n",
    "                return concept[0].text\n",
    "    return 'not found in the XML Records'\n",
    "\n",
    "## the below function finds the descendants of the given DescriptorNames of items in the MeSH hierarchy\n",
    "\n",
    "def descendants_of_DescriptorNames(name1, name2): \n",
    "\n",
    "    name1Tree1 = treenumber(name1) \n",
    "    name2Tree2 = treenumber(name2) \n",
    "    \n",
    "    Descedants_Name = []\n",
    "\n",
    "    for descendants in root:\n",
    "        for concept in descendants.iter('TreeNumberList'): #the iter method, which will search for matches among an element's children, grandchildren, and so on\n",
    "            for treeNumber in concept:   \n",
    "                if name1Tree1 in treeNumber.text:\n",
    "                    for treeNumber in concept:\n",
    "                        if name2Tree2 in treeNumber.text:\n",
    "                             Descedants_Name.append(descendants[1][0].text)\n",
    "    Descedants_Name = set(Descedants_Name) ## to remove the duplicates \n",
    "    return  Descedants_Name"
   ]
  },
  {
   "cell_type": "code",
   "execution_count": 120,
   "id": "625bac86",
   "metadata": {},
   "outputs": [
    {
     "name": "stdout",
     "output_type": "stream",
     "text": [
      "{'Kernicterus', 'Lambert-Eaton Myasthenic Syndrome', 'Autoimmune Hypophysitis', 'Vasculitis, Central Nervous System', 'Myasthenia Gravis, Neonatal', 'Ataxia Telangiectasia', 'Microscopic Polyangiitis', 'Guillain-Barre Syndrome', 'Giant Cell Arteritis', 'Demyelinating Autoimmune Diseases, CNS', 'Autoimmune Diseases of the Nervous System', 'AIDS Arteritis, Central Nervous System', 'Nervous System Autoimmune Disease, Experimental', 'Lupus Vasculitis, Central Nervous System', 'POEMS Syndrome', 'Myasthenia Gravis, Autoimmune, Experimental', 'Multiple Sclerosis, Relapsing-Remitting', 'Myasthenia Gravis', 'Myelitis, Transverse', 'AIDS Dementia Complex', 'Encephalomyelitis, Autoimmune, Experimental', 'Multiple Sclerosis', 'Encephalomyelitis, Acute Disseminated', 'Stiff-Person Syndrome', 'Neuritis, Autoimmune, Experimental', 'Anti-N-Methyl-D-Aspartate Receptor Encephalitis', 'Mevalonate Kinase Deficiency', 'Diffuse Cerebral Sclerosis of Schilder', 'Miller Fisher Syndrome', 'Neuromyelitis Optica', 'Multiple Sclerosis, Chronic Progressive', 'Uveomeningoencephalitic Syndrome', 'Leukoencephalitis, Acute Hemorrhagic', 'Polyradiculoneuropathy', 'Polyradiculoneuropathy, Chronic Inflammatory Demyelinating'}\n"
     ]
    }
   ],
   "source": [
    "##Testing the function \n",
    "\n",
    "print(descendants_of_DescriptorNames('Nervous System Diseases', 'D007154'))"
   ]
  },
  {
   "cell_type": "markdown",
   "id": "8b3fcf68",
   "metadata": {},
   "source": [
    "**Part4**: Explain briefly in terms of biology/medicine what the above search has found. "
   ]
  },
  {
   "cell_type": "markdown",
   "id": "ce467146",
   "metadata": {},
   "source": [
    "**Response**: Tree numbers consist of letters and numbers, the first of which is an uppercase letter representing a category, and the rest are made up of numbers. One or more tree numbers can describe each MeSH heading to reflect its hierarchy in the tree structure and relationships with other MeSH headings. Every three digits represent a hierarchy in the tree structure. The highest level of the MeSH tree structure consists of 16 broad categories. A MeSH term can be part of one or more hierarchies. To illustrate, we will consider the disease 'POEMS syndrome,' a rare blood disorder that damages your nerves and affects other body parts. That means it is an immune system disorder and a disease affecting the nervous system. Therefore, it is MeSh term under two hierarchies: Nervous System Diseases and Immune System Diseases. When using MeSH terms in Pubmed, it searches for the subject heading and any subject headings underneath that term in the MeSH tree. This process leads to expanding the search results and including all the available resources. For example, if you were searching for Nervous System Diseases, you'll also see information about Neuromuscular Diseases(it will consist of more diseases), Peripheral Nervous System Diseases, Polyneuropathies, etc. \n",
    "\n",
    "In short, the function gave us all the diseases classified under the hierarchy/category of Nervous System Disease and Immune System Disorder."
   ]
  }
 ],
 "metadata": {
  "kernelspec": {
   "display_name": "Python 3 (ipykernel)",
   "language": "python",
   "name": "python3"
  },
  "language_info": {
   "codemirror_mode": {
    "name": "ipython",
    "version": 3
   },
   "file_extension": ".py",
   "mimetype": "text/x-python",
   "name": "python",
   "nbconvert_exporter": "python",
   "pygments_lexer": "ipython3",
   "version": "3.9.12"
  }
 },
 "nbformat": 4,
 "nbformat_minor": 5
}

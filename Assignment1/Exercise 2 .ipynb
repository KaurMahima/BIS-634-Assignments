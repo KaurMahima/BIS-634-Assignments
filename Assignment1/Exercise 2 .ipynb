{
 "cells": [
  {
   "cell_type": "markdown",
   "id": "7c2a9ed5",
   "metadata": {},
   "source": [
    "# Exercise 2"
   ]
  },
  {
   "cell_type": "markdown",
   "id": "79e60d71",
   "metadata": {},
   "source": [
    "Question. Download the sqlite3 database from hw1-population.db.\n",
    "Examine data. What columns does it have? (2 points) How many rows (think: people) does it have? (2 points)\n",
    "\n",
    "Examine the distribution of the ages in the dataset. In particular, be sure to have your code report the mean, standard deviation, minimum, maximum. (2 points) Plot a histogram of the distribution with an appropriate number of bins for the size of the dataset (describe in your readme the role of the number of bins). (3 points) Comment on any outliers or patterns you notice in the distribution of ages. (1 point)\n",
    "\n",
    "Repeat the above for the distribution of weights. (3 points)\n",
    "\n",
    "Make a scatterplot of the weights vs the ages. (3 points) Describe the general relationship between the two variables (3 points). You should notice at least one outlier that does not follow the general relationship. What is the name of the person? (3 points) Be sure to explain your process for identifying the person whose values don't follow the usual relationship in the readme. (3 points)"
   ]
  },
  {
   "cell_type": "markdown",
   "id": "8937eb11",
   "metadata": {},
   "source": [
    "_Below is the code to load the dataset._"
   ]
  },
  {
   "cell_type": "code",
   "execution_count": 14,
   "id": "93efe736",
   "metadata": {},
   "outputs": [],
   "source": [
    "## Importing the ibraries pandas and sqlite3 and loading the dataset. \n",
    "\n",
    "import pandas as pd\n",
    "import sqlite3\n",
    "with sqlite3.connect(\"/Users/mahimakaur/Downloads/hw1-population.db\") as db:\n",
    "    data = pd.read_sql_query(\"SELECT * FROM population\", db)"
   ]
  },
  {
   "cell_type": "code",
   "execution_count": 15,
   "id": "e7989abd",
   "metadata": {},
   "outputs": [
    {
     "data": {
      "text/html": [
       "<div>\n",
       "<style scoped>\n",
       "    .dataframe tbody tr th:only-of-type {\n",
       "        vertical-align: middle;\n",
       "    }\n",
       "\n",
       "    .dataframe tbody tr th {\n",
       "        vertical-align: top;\n",
       "    }\n",
       "\n",
       "    .dataframe thead th {\n",
       "        text-align: right;\n",
       "    }\n",
       "</style>\n",
       "<table border=\"1\" class=\"dataframe\">\n",
       "  <thead>\n",
       "    <tr style=\"text-align: right;\">\n",
       "      <th></th>\n",
       "      <th>name</th>\n",
       "      <th>age</th>\n",
       "      <th>weight</th>\n",
       "      <th>eyecolor</th>\n",
       "    </tr>\n",
       "  </thead>\n",
       "  <tbody>\n",
       "    <tr>\n",
       "      <th>0</th>\n",
       "      <td>Edna Phelps</td>\n",
       "      <td>88.895690</td>\n",
       "      <td>67.122450</td>\n",
       "      <td>brown</td>\n",
       "    </tr>\n",
       "    <tr>\n",
       "      <th>1</th>\n",
       "      <td>Cara Yasso</td>\n",
       "      <td>9.274597</td>\n",
       "      <td>29.251244</td>\n",
       "      <td>brown</td>\n",
       "    </tr>\n",
       "    <tr>\n",
       "      <th>2</th>\n",
       "      <td>Gail Rave</td>\n",
       "      <td>18.345613</td>\n",
       "      <td>55.347903</td>\n",
       "      <td>brown</td>\n",
       "    </tr>\n",
       "    <tr>\n",
       "      <th>3</th>\n",
       "      <td>Richard Adams</td>\n",
       "      <td>16.367545</td>\n",
       "      <td>70.352184</td>\n",
       "      <td>brown</td>\n",
       "    </tr>\n",
       "    <tr>\n",
       "      <th>4</th>\n",
       "      <td>Krista Slater</td>\n",
       "      <td>49.971604</td>\n",
       "      <td>70.563859</td>\n",
       "      <td>brown</td>\n",
       "    </tr>\n",
       "    <tr>\n",
       "      <th>...</th>\n",
       "      <td>...</td>\n",
       "      <td>...</td>\n",
       "      <td>...</td>\n",
       "      <td>...</td>\n",
       "    </tr>\n",
       "    <tr>\n",
       "      <th>152356</th>\n",
       "      <td>John Fowler</td>\n",
       "      <td>23.930833</td>\n",
       "      <td>71.532569</td>\n",
       "      <td>blue</td>\n",
       "    </tr>\n",
       "    <tr>\n",
       "      <th>152357</th>\n",
       "      <td>Diana Shuffler</td>\n",
       "      <td>21.884819</td>\n",
       "      <td>67.936753</td>\n",
       "      <td>brown</td>\n",
       "    </tr>\n",
       "    <tr>\n",
       "      <th>152358</th>\n",
       "      <td>Kevin Cuningham</td>\n",
       "      <td>87.705907</td>\n",
       "      <td>60.074646</td>\n",
       "      <td>brown</td>\n",
       "    </tr>\n",
       "    <tr>\n",
       "      <th>152359</th>\n",
       "      <td>James Libengood</td>\n",
       "      <td>21.727666</td>\n",
       "      <td>81.774985</td>\n",
       "      <td>brown</td>\n",
       "    </tr>\n",
       "    <tr>\n",
       "      <th>152360</th>\n",
       "      <td>Cathleen Ballance</td>\n",
       "      <td>10.062236</td>\n",
       "      <td>34.327767</td>\n",
       "      <td>brown</td>\n",
       "    </tr>\n",
       "  </tbody>\n",
       "</table>\n",
       "<p>152361 rows × 4 columns</p>\n",
       "</div>"
      ],
      "text/plain": [
       "                     name        age     weight eyecolor\n",
       "0             Edna Phelps  88.895690  67.122450    brown\n",
       "1              Cara Yasso   9.274597  29.251244    brown\n",
       "2               Gail Rave  18.345613  55.347903    brown\n",
       "3           Richard Adams  16.367545  70.352184    brown\n",
       "4           Krista Slater  49.971604  70.563859    brown\n",
       "...                   ...        ...        ...      ...\n",
       "152356        John Fowler  23.930833  71.532569     blue\n",
       "152357     Diana Shuffler  21.884819  67.936753    brown\n",
       "152358    Kevin Cuningham  87.705907  60.074646    brown\n",
       "152359    James Libengood  21.727666  81.774985    brown\n",
       "152360  Cathleen Ballance  10.062236  34.327767    brown\n",
       "\n",
       "[152361 rows x 4 columns]"
      ]
     },
     "execution_count": 15,
     "metadata": {},
     "output_type": "execute_result"
    }
   ],
   "source": [
    "##Overview of the dataset\n",
    "\n",
    "data"
   ]
  },
  {
   "cell_type": "markdown",
   "id": "dd674745",
   "metadata": {},
   "source": [
    "**Part1**: Examine data. What columns does it have? How many rows does it have?"
   ]
  },
  {
   "cell_type": "markdown",
   "id": "a0b234ca",
   "metadata": {},
   "source": [
    "_Below is the code to find the columns and number of rows in the dataset._"
   ]
  },
  {
   "cell_type": "code",
   "execution_count": 16,
   "id": "01d8e76e",
   "metadata": {},
   "outputs": [
    {
     "name": "stdout",
     "output_type": "stream",
     "text": [
      "<class 'pandas.core.frame.DataFrame'>\n",
      "RangeIndex: 152361 entries, 0 to 152360\n",
      "Data columns (total 4 columns):\n",
      " #   Column    Non-Null Count   Dtype  \n",
      "---  ------    --------------   -----  \n",
      " 0   name      152361 non-null  object \n",
      " 1   age       152361 non-null  float64\n",
      " 2   weight    152361 non-null  float64\n",
      " 3   eyecolor  152361 non-null  object \n",
      "dtypes: float64(2), object(2)\n",
      "memory usage: 4.6+ MB\n",
      "The columns in the data include: name, age, weight, eyecolor\n",
      "There are 152361 rows in the data.\n"
     ]
    }
   ],
   "source": [
    "data.info()\n",
    "\n",
    "print(\"The columns in the data include:\", \", \".join(list(data.columns)))\n",
    "print(\"There are\", data['name'].count(), \"rows in the data.\")"
   ]
  },
  {
   "cell_type": "markdown",
   "id": "a1b949f0",
   "metadata": {},
   "source": [
    "**Response**: The dataset has four columns namely : _name_, _age_, _weight_, _eyecolor_. There are _152361_ rows (people) in the dataset."
   ]
  },
  {
   "cell_type": "markdown",
   "id": "56155471",
   "metadata": {},
   "source": [
    "**Part2**: Examine the distribution of the ages in the dataset. In particular, be sure to have your code report the mean, standard deviation, minimum, maximum. Plot a histogram of the distribution with an appropriate number of bins for the size of the dataset (describe in your readme the role of the number of bins). Comment on any outliers or patterns you notice in the distribution of ages."
   ]
  },
  {
   "cell_type": "markdown",
   "id": "f05a47e2",
   "metadata": {},
   "source": [
    "*Below is the code to examine the distribution of age in the dataset.*"
   ]
  },
  {
   "cell_type": "code",
   "execution_count": 17,
   "id": "3c806bc3",
   "metadata": {},
   "outputs": [
    {
     "data": {
      "text/plain": [
       "count    152361.000000\n",
       "mean         39.510528\n",
       "std          24.152760\n",
       "min           0.000748\n",
       "25%          19.296458\n",
       "50%          38.468955\n",
       "75%          57.623245\n",
       "max          99.991547\n",
       "Name: age, dtype: float64"
      ]
     },
     "execution_count": 17,
     "metadata": {},
     "output_type": "execute_result"
    }
   ],
   "source": [
    "##To examine the distribution of the age in the dataset.\n",
    "\n",
    "data['age'].describe()"
   ]
  },
  {
   "cell_type": "markdown",
   "id": "94f83bb8",
   "metadata": {},
   "source": [
    "_Below is the code for Age distribution._"
   ]
  },
  {
   "cell_type": "code",
   "execution_count": 18,
   "id": "4dc1154b",
   "metadata": {},
   "outputs": [
    {
     "name": "stdout",
     "output_type": "stream",
     "text": [
      "Freedman–Diaconis number of bins: 70\n"
     ]
    },
    {
     "data": {
      "text/plain": [
       "Text(0.5, 1.0, 'Age Distribution of the Population')"
      ]
     },
     "execution_count": 18,
     "metadata": {},
     "output_type": "execute_result"
    },
    {
     "data": {
      "image/png": "[encoded data removed]",
      "text/plain": [
       "<Figure size 432x288 with 1 Axes>"
      ]
     },
     "metadata": {
      "needs_background": "light"
     },
     "output_type": "display_data"
    }
   ],
   "source": [
    "## import libraries matplotlib and numpy\n",
    "\n",
    "import matplotlib.pyplot as plt\n",
    "import numpy as np\n",
    "\n",
    "age = data['age'] #Creating a variable age\n",
    "\n",
    "## Calculating bins for the histogram using Freedman–Diaconis rule:\n",
    "\n",
    "q1 = age.quantile(0.25)\n",
    "q3 = age.quantile(0.75)\n",
    "iqr = q3 - q1\n",
    "bin_width = (2 * iqr) / (len(age) ** (1 / 3))\n",
    "bin_count = int(np.ceil((age.max() - age.min()) / bin_width))\n",
    "print(\"Freedman–Diaconis number of bins:\", bin_count)\n",
    "\n",
    "##Histogram of the Age Distribution \n",
    "\n",
    "plt.hist(age, bins=bin_count);\n",
    "plt.ylabel('Frequency')\n",
    "plt.xlabel('Age')\n",
    "plt.title('Age Distribution of the Population')"
   ]
  },
  {
   "cell_type": "code",
   "execution_count": 19,
   "id": "79af3852",
   "metadata": {},
   "outputs": [
    {
     "name": "stdout",
     "output_type": "stream",
     "text": [
      "Sturges Rule number of bins: 19\n"
     ]
    },
    {
     "data": {
      "text/plain": [
       "Text(0.5, 1.0, 'Age Distribution of the Population')"
      ]
     },
     "execution_count": 19,
     "metadata": {},
     "output_type": "execute_result"
    },
    {
     "data": {
      "image/png": "[encoded data removed]",
      "text/plain": [
       "<Figure size 432x288 with 1 Axes>"
      ]
     },
     "metadata": {
      "needs_background": "light"
     },
     "output_type": "display_data"
    }
   ],
   "source": [
    "## Calculating bins for the histogram using Sturges rule:\n",
    "\n",
    "SR_bin_count = int(np.ceil(np.log2(len(age))) + 1)\n",
    "print(\"Sturges Rule number of bins:\", SR_bin_count)\n",
    "\n",
    "##Plot \n",
    "\n",
    "plt.hist(age, bins = SR_bin_count);\n",
    "plt.ylabel('Frequency')\n",
    "plt.xlabel('Age')\n",
    "plt.title('Age Distribution of the Population')"
   ]
  },
  {
   "cell_type": "markdown",
   "id": "ed26ac2b",
   "metadata": {},
   "source": [
    "**Response:** The mean age is 39.5 years, and the maximum age included in the dataset is 99 years. It is important to have appropriate number of bins as if we take less bins, the histogram doesn't portray the data accurately. If large number of bins are used, the graph does not give a sense of the distribution of the dataset.I have calculated the width of bins using Freedman–Diaconis rule. Freedman-Diaconis rule not only considers the sample size but also considers the spread of the sample. Another method through which the bin size can be calculated is Sturge’s rule. \n",
    "Sturges rule takes into account the size of the data to decide on the number of bins. \n",
    "\n",
    "From the graph it seems that the age distribution is skewed right. "
   ]
  },
  {
   "cell_type": "markdown",
   "id": "7a816005",
   "metadata": {},
   "source": [
    "**Part3**: Repeat the above for the distribution of weights.  "
   ]
  },
  {
   "cell_type": "markdown",
   "id": "fa7c4f50",
   "metadata": {},
   "source": [
    "_Below is the code to plot histogram to depict the distribution of weights._"
   ]
  },
  {
   "cell_type": "code",
   "execution_count": 20,
   "id": "641a4398",
   "metadata": {},
   "outputs": [
    {
     "name": "stdout",
     "output_type": "stream",
     "text": [
      "Freedman–Diaconis number of bins: 196\n"
     ]
    },
    {
     "data": {
      "text/plain": [
       "Text(0.5, 1.0, 'Weight Distribution of the Population')"
      ]
     },
     "execution_count": 20,
     "metadata": {},
     "output_type": "execute_result"
    },
    {
     "data": {
      "image/png": "[encoded data removed]",
      "text/plain": [
       "<Figure size 432x288 with 1 Axes>"
      ]
     },
     "metadata": {
      "needs_background": "light"
     },
     "output_type": "display_data"
    }
   ],
   "source": [
    "##To depict the distribution of weight \n",
    "\n",
    "weight = data['weight'] #Creating a variable weight \n",
    "\n",
    "## Calculating bins for the histogram using Freedman–Diaconis rule:\n",
    "\n",
    "q1 = weight.quantile(0.25)\n",
    "q3 = weight.quantile(0.75)\n",
    "iqr = q3 - q1\n",
    "bin_width = (2 * iqr) / (len(weight) ** (1 / 3))\n",
    "bin_count_weight = int(np.ceil((weight.max() - weight.min()) / bin_width))\n",
    "print(\"Freedman–Diaconis number of bins:\", bin_count_weight)\n",
    "\n",
    "## Histogram\n",
    "\n",
    "plt.hist(weight, bins= bin_count_weight);\n",
    "plt.ylabel('Frequency')\n",
    "plt.xlabel('Weight')\n",
    "plt.title('Weight Distribution of the Population')"
   ]
  },
  {
   "cell_type": "code",
   "execution_count": 21,
   "id": "cf77e7d6",
   "metadata": {},
   "outputs": [
    {
     "name": "stdout",
     "output_type": "stream",
     "text": [
      "Sturges Rule number of bins: 19\n"
     ]
    },
    {
     "data": {
      "text/plain": [
       "Text(0.5, 1.0, 'Weight Distribution of the Population')"
      ]
     },
     "execution_count": 21,
     "metadata": {},
     "output_type": "execute_result"
    },
    {
     "data": {
      "image/png": "[encoded data removed]",
      "text/plain": [
       "<Figure size 432x288 with 1 Axes>"
      ]
     },
     "metadata": {
      "needs_background": "light"
     },
     "output_type": "display_data"
    }
   ],
   "source": [
    "## Calculating bins for the histogram using Sturge's rule:\n",
    "\n",
    "SR_bin_count_weight = int(np.ceil(np.log2(len(weight))) + 1)\n",
    "print(\"Sturges Rule number of bins:\", SR_bin_count_weight)\n",
    "\n",
    "## Histogram depicting the weight distribution \n",
    "\n",
    "plt.hist(weight, bins= SR_bin_count_weight);\n",
    "plt.ylabel('Frequency')\n",
    "plt.xlabel('Weight')\n",
    "plt.title('Weight Distribution of the Population')"
   ]
  },
  {
   "cell_type": "markdown",
   "id": "278898dc",
   "metadata": {},
   "source": [
    "**Response**: From the histogram distribution of weight it can be inferred that most of the people in the dataset, weighed in the range of 65-75 kg."
   ]
  },
  {
   "cell_type": "markdown",
   "id": "8a63c28e",
   "metadata": {},
   "source": [
    "**Part4**: Make a scatterplot of the weights vs the ages. (3 points) Describe the general relationship between the two variables (3 points). You should notice at least one outlier that does not follow the general relationship. What is the name of the person? (3 points) Be sure to explain your process for identifying the person whose values don't follow the usual relationship in the readme. (3 points)"
   ]
  },
  {
   "cell_type": "markdown",
   "id": "1fb1ebfe",
   "metadata": {},
   "source": [
    "_Below is the code to plot the scatterplot between age v/s weight._"
   ]
  },
  {
   "cell_type": "code",
   "execution_count": 22,
   "id": "141cca3f",
   "metadata": {},
   "outputs": [
    {
     "data": {
      "image/png": "[encoded data removed]",
      "text/plain": [
       "<Figure size 640x480 with 1 Axes>"
      ]
     },
     "metadata": {},
     "output_type": "display_data"
    },
    {
     "data": {
      "text/plain": [
       "<ggplot: (8773127601619)>"
      ]
     },
     "execution_count": 22,
     "metadata": {},
     "output_type": "execute_result"
    }
   ],
   "source": [
    "##Importing library\n",
    "\n",
    "from plotnine import *  \n",
    "\n",
    "(ggplot(data, \n",
    "       aes(x = 'age', y = 'weight')) \n",
    "    + geom_point(color = \"red\")\n",
    "    + labs(x = 'Age of the Population',\n",
    "           y = 'Weight of the Population')\n",
    "    + ggtitle('Scatterplot of age v/s weight'))"
   ]
  },
  {
   "cell_type": "markdown",
   "id": "7e154524",
   "metadata": {},
   "source": [
    "_Below is the code to identify the outier that does not follow the general relationship._"
   ]
  },
  {
   "cell_type": "code",
   "execution_count": 23,
   "id": "a61778a5",
   "metadata": {},
   "outputs": [
    {
     "name": "stdout",
     "output_type": "stream",
     "text": [
      "The name of the person who does not follow the general age v/s weight relationship is \u001b[1mAnthony Freeman .\n"
     ]
    }
   ],
   "source": [
    "outlier_age = data.loc[data['age']>30]\n",
    "outlier_weight = outlier_age.loc[data['weight']<25]\n",
    "outlier_name = \"\".join(outlier_weight['name'])\n",
    "print(\"The name of the person who does not follow the general age v/s weight relationship is\", '\\033[1m' + outlier_name,\".\")\n"
   ]
  },
  {
   "cell_type": "markdown",
   "id": "4956e22a",
   "metadata": {},
   "source": [
    "**Response**: From the graph it can be observed that as the age of the person increases the weight also increases. The relatipnship between both the variables is linear. But, after the age of around 20 years, the relationship between tage and weight is stable. \n",
    "\n",
    "The person who does not follow the general age v/s weight relationship is Anthony Freeman. Identification of the outlier was made using the scatterplot. In the scatterplot, we can see one point, i.e., between 25-50 years, having a weight less than 25 as an outlier. So, to accurately identify the name, I created a data variable _outlier_age_ of individuals older than 30 years. Then, I narrowed down the dataset to include individuals with weights less than 25. From the dataset's dataframe the name of the individual was identified. "
   ]
  }
 ],
 "metadata": {
  "kernelspec": {
   "display_name": "Python 3 (ipykernel)",
   "language": "python",
   "name": "python3"
  },
  "language_info": {
   "codemirror_mode": {
    "name": "ipython",
    "version": 3
   },
   "file_extension": ".py",
   "mimetype": "text/x-python",
   "name": "python",
   "nbconvert_exporter": "python",
   "pygments_lexer": "ipython3",
   "version": "3.9.12"
  }
 },
 "nbformat": 4,
 "nbformat_minor": 5
}

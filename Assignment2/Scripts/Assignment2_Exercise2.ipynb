{
 "cells": [
  {
   "cell_type": "markdown",
   "id": "f4c23fd5",
   "metadata": {},
   "source": [
    "## Exercise2"
   ]
  },
  {
   "cell_type": "markdown",
   "id": "5f0b737a",
   "metadata": {},
   "source": [
    "In this exercise, we'll use a bloom filter to identify a correct word from a single-character typo. This is computationally the same problem as mapping a gene with a single nucleotide permutation to multiple reference genomes (this would be too many possibilities to keep all in memory, hence the use of a bloom filter). We'll talk about sequence alignment later in the course, which is a different but related problem."
   ]
  },
  {
   "cell_type": "markdown",
   "id": "224de926",
   "metadata": {},
   "source": [
    "Download the list of English words from https://github.com/dwyl/english-words/blob/master/words.txt\n",
    "\n",
    "This list may be read in one-at-a-time for processing via e.g."
   ]
  },
  {
   "cell_type": "raw",
   "id": "bc40ec8c",
   "metadata": {},
   "source": [
    "with open('words.txt') as f:\n",
    "    for line in f:\n",
    "        word = line.strip()\n",
    "        # do something with the word here"
   ]
  },
  {
   "cell_type": "markdown",
   "id": "286b1a48",
   "metadata": {},
   "source": [
    "\n",
    "Implement a Bloom Filter \"from scratch\" using a bitarray (6 points):"
   ]
  },
  {
   "cell_type": "raw",
   "id": "bd291c0b",
   "metadata": {},
   "source": [
    "import bitarray\n",
    "data = bitarray.bitarray(size)"
   ]
  },
  {
   "cell_type": "raw",
   "id": "cfe01c7e",
   "metadata": {},
   "source": [
    "with the following three hash functions\n",
    "from hashlib import sha3_256, sha256, blake2b\n",
    "\n",
    "def my_hash(s):\n",
    "    return int(sha256(s.lower().encode()).hexdigest(), 16) % size\n",
    "\n",
    "def my_hash2(s):\n",
    "    return int(blake2b(s.lower().encode()).hexdigest(), 16) % size\n",
    "\n",
    "def my_hash3(s):\n",
    "    return int(sha3_256(s.lower().encode()).hexdigest(), 16) % size\n",
    "and store the words in the bloom filter (2 points).\n"
   ]
  },
  {
   "cell_type": "markdown",
   "id": "53213f9b",
   "metadata": {},
   "source": [
    "These hash functions all return integers in [0, size), where size is some integer specified elsewhere."
   ]
  },
  {
   "cell_type": "markdown",
   "id": "0d89899f",
   "metadata": {},
   "source": [
    "Write a function that suggests spelling corrections using the bloom filter as follows: Try all possible single letter substitutions and see which ones are identified by the filter as possibly words. This algorithm will always find the intended word for this data set, and possibly other words as well. (8 points)\n",
    "\n",
    "Plot the effect of the size of the filter together with the choice of just the first, the first two, or all three of the above hash functions on the number of words misidentified from typos.jsonDownload typos.json as correct and the number of \"good suggestions\". (4 points) typos.json consists of a list of lists of [typed_word, correct_word] pairs; exactly half of the entries are spelled correctly. For this exercise, consider a list of spelling suggestions good if there are no more than three suggestions and one of them is the word that was wanted.\n",
    "\n",
    "Approximately how many bits is necessary for this approach to give good suggestions (as defined above) 90% of the time when using each of 1, 2, or 3 hash functions as above? (5 points)"
   ]
  },
  {
   "cell_type": "markdown",
   "id": "7f6d26f7",
   "metadata": {},
   "source": [
    "### Response"
   ]
  },
  {
   "cell_type": "markdown",
   "id": "70dcf069",
   "metadata": {},
   "source": [
    "#### Importing libraries "
   ]
  },
  {
   "cell_type": "code",
   "execution_count": 111,
   "id": "3e07d533",
   "metadata": {},
   "outputs": [],
   "source": [
    "import bitarray\n",
    "from hashlib import sha3_256, sha256, blake2b\n",
    "import json\n",
    "import bitarray\n",
    "from tqdm import tqdm \n",
    "import string\n",
    "import numpy as np\n",
    "import matplotlib.pyplot as plt"
   ]
  },
  {
   "cell_type": "code",
   "execution_count": 112,
   "id": "d920b9aa",
   "metadata": {},
   "outputs": [],
   "source": [
    "## Loading the word file \n",
    "\n",
    "with open('/Users/mahimakaur/Desktop/words.txt') as f:\n",
    "    for line in f:\n",
    "        word = line.strip()"
   ]
  },
  {
   "cell_type": "markdown",
   "id": "f208d9cf",
   "metadata": {},
   "source": [
    "#### Implement a Bloom Filter \"from scratch\" using a bitarray"
   ]
  },
  {
   "cell_type": "code",
   "execution_count": 113,
   "id": "8b7a5714",
   "metadata": {},
   "outputs": [],
   "source": [
    "class BloomFilter(object):\n",
    "    \n",
    "    def __init__(self, size):\n",
    "\n",
    "        self.bit_array = bitarray.bitarray(size)\n",
    "        self.hashsize = size\n",
    "        self.bit_array.setall(0)\n",
    "       \n",
    "    def add_one(self, words):\n",
    "        hash1 = int(self.my_hash(words, self.hashsize))\n",
    "        self.bit_array[hash1] = True\n",
    "            \n",
    "    def add_two(self, words):\n",
    "    \n",
    "        hash1 = int(self.my_hash(words, self.hashsize))\n",
    "        hash2 = int(self.my_hash2(words, self.hashsize))\n",
    "        self.bit_array[hash1] = True\n",
    "        self.bit_array[hash2] = True\n",
    "    \n",
    "    def add_three(self, words):\n",
    "\n",
    "        hash1 = int(self.my_hash(words, self.hashsize))\n",
    "        hash2 = int(self.my_hash2(words, self.hashsize))\n",
    "        hash3 = int(self.my_hash3(words, self.hashsize))\n",
    "        self.bit_array[hash1] = True\n",
    "        self.bit_array[hash2] = True\n",
    "        self.bit_array[hash3] = True\n",
    "            \n",
    "    def check_one_hash(self, test_word):\n",
    "        hash1 = int(self.my_hash(test_word, self.hashsize))\n",
    "        if self.bit_array[hash1] == False:\n",
    "            return False\n",
    "        else:\n",
    "            return True\n",
    "    \n",
    "    def check_two_hash(self, test_word):\n",
    "        hash1 = int(self.my_hash(test_word, self.hashsize))\n",
    "        hash2 = int(self.my_hash2(test_word, self.hashsize))\n",
    "        if (self.bit_array[hash1] == False) or (self.bit_array[hash2] == False):\n",
    "            return False\n",
    "        else:\n",
    "            return True\n",
    "    \n",
    "    def check_three_hash(self, test_word):\n",
    "        hash1 = int(self.my_hash(test_word, self.hashsize))\n",
    "        hash2 = int(self.my_hash2(test_word, self.hashsize))\n",
    "        hash3 = int(self.my_hash3(test_word, self.hashsize))\n",
    "        if (self.bit_array[hash1] == False) or (self.bit_array[hash2] == False) or (self.bit_array[hash3] == False):\n",
    "            return False\n",
    "        else:\n",
    "            return True\n",
    "    \n",
    "    def my_hash(self, s, size):\n",
    "        return int(sha256(s.lower().encode()).hexdigest(), 16) % size\n",
    "\n",
    "    def my_hash2(self, s, size):\n",
    "        return int(blake2b(s.lower().encode()).hexdigest(), 16) % size\n",
    "\n",
    "    def my_hash3(self, s, size):\n",
    "        return int(sha3_256(s.lower().encode()).hexdigest(), 16) % size\n",
    "\n",
    "def replace(s, position, character):\n",
    "    return s[:position] + character + s[position+1:]"
   ]
  },
  {
   "cell_type": "code",
   "execution_count": 114,
   "id": "11f6cfe8",
   "metadata": {},
   "outputs": [],
   "source": [
    "# creating a bloom filter\n",
    "n = int(1e7)\n",
    "blf = BloomFilter(n)"
   ]
  },
  {
   "cell_type": "markdown",
   "id": "530de672",
   "metadata": {},
   "source": [
    "#### Checking the BloomFilter Function with a short example"
   ]
  },
  {
   "cell_type": "code",
   "execution_count": 115,
   "id": "21883218",
   "metadata": {},
   "outputs": [
    {
     "name": "stdout",
     "output_type": "stream",
     "text": [
      "'bluff' is definitely not present!\n",
      "'cheater' is definitely not present!\n",
      "'hate' is definitely not present!\n",
      "'war' is definitely not present!\n",
      "'humanity' is definitely not present!\n",
      "'racism' is definitely not present!\n",
      "'hurt' is definitely not present!\n",
      "'nuke' is definitely not present!\n",
      "'gloomy' is definitely not present!\n",
      "'facebook' is definitely not present!\n",
      "'geeksforgeeks' is definitely not present!\n",
      "'twitter' is definitely not present!\n",
      "'abound' is probably present!\n",
      "'abounds' is probably present!\n",
      "'abundance' is probably present!\n",
      "'abundant' is probably present!\n"
     ]
    }
   ],
   "source": [
    "word_absent = ['bluff','cheater','hate','war','humanity',\n",
    "                'racism','hurt','nuke','gloomy','facebook',\n",
    "                'geeksforgeeks','twitter']\n",
    "\n",
    "word_present = ['abound','abounds','abundance','abundant','accessible',\n",
    "                    'bloom','blossom','bolster','bonny','bonus','bonuses',\n",
    "                    'coherent','cohesive','colorful','comely','comfort',\n",
    "                    'gems','generosity','generous','generously','genial']\n",
    "\n",
    "# word not added\n",
    "testing_words = word_absent + word_present[:4]\n",
    "\n",
    "for item in word_present:\n",
    "        blf.add_one(item)\n",
    "\n",
    "\n",
    "for word in testing_words:\n",
    "        if blf.check_one_hash(word):\n",
    "            if word in word_absent:\n",
    "                print(\"'{}' is a false positive!\".format(word))\n",
    "            else:\n",
    "                print(\"'{}' is probably present!\".format(word))\n",
    "        else:\n",
    "            print(\"'{}' is definitely not present!\".format(word))"
   ]
  },
  {
   "cell_type": "markdown",
   "id": "12108b66",
   "metadata": {},
   "source": [
    "#### Deciding the Number of HashCounts and Creating the Function to add the words "
   ]
  },
  {
   "cell_type": "code",
   "execution_count": 116,
   "id": "8134ab08",
   "metadata": {},
   "outputs": [],
   "source": [
    "def hashnumber():\n",
    "    return(hashcount)\n",
    "\n",
    "def addingword(hashcount):\n",
    "    if hashcount == \"1\":\n",
    "        with open('/Users/mahimakaur/Desktop/words.txt') as f:\n",
    "            for line in f:\n",
    "                word = line.strip()\n",
    "                blf.add_one(word)\n",
    "    elif hashcount == \"2\":\n",
    "        with open('/Users/mahimakaur/Desktop/words.txt') as f:\n",
    "            for line in f:\n",
    "                word = line.strip()\n",
    "                blf.add_two(word)   \n",
    "    elif hashcount == \"3\":\n",
    "         with open('/Users/mahimakaur/Desktop/words.txt') as f:\n",
    "            for line in f:\n",
    "                word = line.strip()\n",
    "                blf.add_three(word) "
   ]
  },
  {
   "cell_type": "markdown",
   "id": "ae1f4a1e",
   "metadata": {},
   "source": [
    "#### Function to suggest spelling corrections "
   ]
  },
  {
   "cell_type": "code",
   "execution_count": 117,
   "id": "f4b663b9",
   "metadata": {},
   "outputs": [],
   "source": [
    "def suggestions(test_word):\n",
    "    suggest = []\n",
    "    alphabet = ['a','b','c','d','e','f','g','h','i','j','k','l','m','n','o','p','q','r','s','t','u','v','w','x','y','z']\n",
    "    result = check_spelling(test_word, hashcount)\n",
    "    if  result == False:\n",
    "        for i in range(len(test_word)):\n",
    "            for a in alphabet:\n",
    "                suggest_word = replace(test_word, i, a)\n",
    "                suggest.append(suggest_word)\n",
    "    return(suggest)\n",
    "\n",
    "\n",
    "def correct_suggestion(suggestions, hashcount):\n",
    "    correct_suggest = []\n",
    "    if hashcount == \"1\":\n",
    "        for n in suggestions:\n",
    "            suggestresult = blf.check_one_hash(n)\n",
    "            if suggestresult != False:\n",
    "                correct_suggest.append(n)\n",
    "    elif hashcount == \"2\":\n",
    "        for n in suggestions:\n",
    "            suggestresult = blf.check_two_hash(n)\n",
    "            if suggestresult != False:\n",
    "                correct_suggest.append(n)\n",
    "    elif hashcount == \"3\":\n",
    "        for n in suggestions:\n",
    "            suggestresult = blf.check_three_hash(n)\n",
    "            if suggestresult != False:\n",
    "                correct_suggest.append(n)\n",
    "    return(correct_suggest)"
   ]
  },
  {
   "cell_type": "markdown",
   "id": "a923cb52",
   "metadata": {},
   "source": [
    "#### An example to Check the Word"
   ]
  },
  {
   "cell_type": "code",
   "execution_count": 118,
   "id": "46ab4dfb",
   "metadata": {},
   "outputs": [],
   "source": [
    "hashcount = hashnumber() ## hashcount could be 1, 2, 3"
   ]
  },
  {
   "cell_type": "code",
   "execution_count": 119,
   "id": "7768c3c1",
   "metadata": {},
   "outputs": [],
   "source": [
    "hashcount = \"3\" #for the example I have taken 3 hashcount"
   ]
  },
  {
   "cell_type": "code",
   "execution_count": 120,
   "id": "a0604f52",
   "metadata": {},
   "outputs": [],
   "source": [
    "addingword(hashcount) ##adding words to the hash"
   ]
  },
  {
   "cell_type": "code",
   "execution_count": 121,
   "id": "249fdb59",
   "metadata": {},
   "outputs": [],
   "source": [
    "test_word = \"floeer\" #testing the word floeer "
   ]
  },
  {
   "cell_type": "code",
   "execution_count": 122,
   "id": "cff1bddf",
   "metadata": {},
   "outputs": [],
   "source": [
    "## Creating a function to check the spelling\n",
    "\n",
    "def check_spelling(test_word, hashcount):\n",
    "    if hashcount == \"1\":\n",
    "        result = blf.check_one_hash(test_word)\n",
    "        return result\n",
    "    elif hashcount == \"2\":\n",
    "        result = blf.check_two_hash(test_word)\n",
    "        return result\n",
    "    elif hashcount == \"3\":\n",
    "        result = blf.check_three_hash(test_word)\n",
    "        return result"
   ]
  },
  {
   "cell_type": "code",
   "execution_count": 123,
   "id": "f8d6fb2c",
   "metadata": {},
   "outputs": [
    {
     "name": "stdout",
     "output_type": "stream",
     "text": [
      "['floter', 'flower']\n"
     ]
    }
   ],
   "source": [
    "## Checking the spelling and good suggestions for the correct spelling\n",
    "\n",
    "check_spelling(test_word, hashcount)\n",
    "if check_spelling(test_word, hashcount) == False:\n",
    "    suggestionlist = suggestions(test_word)\n",
    "    correct_suggestionlist = correct_suggestion(suggestionlist, hashcount)\n",
    "    print(correct_suggestionlist)"
   ]
  },
  {
   "cell_type": "markdown",
   "id": "ba47aa9e",
   "metadata": {},
   "source": [
    "#### Downloading the typos.json file. The file consists of a list of lists of [typed_word, correct_word] pairs; exactly half of the entries are spelled correctly."
   ]
  },
  {
   "cell_type": "code",
   "execution_count": 124,
   "id": "b7dfabff",
   "metadata": {},
   "outputs": [],
   "source": [
    "with open('/Users/mahimakaur/Desktop/typos.json', 'r') as f:\n",
    "    file = f.read()\n",
    "    text = json.loads(file)"
   ]
  },
  {
   "cell_type": "code",
   "execution_count": 125,
   "id": "cd8f1bcb",
   "metadata": {},
   "outputs": [
    {
     "name": "stdout",
     "output_type": "stream",
     "text": [
      "50000\n"
     ]
    }
   ],
   "source": [
    "# to find the lenth of the typos.json file\n",
    "\n",
    "print(len(text))"
   ]
  },
  {
   "cell_type": "markdown",
   "id": "7adb48fe",
   "metadata": {},
   "source": [
    "#### Functions for Good Suggestions and Misidentified Words "
   ]
  },
  {
   "cell_type": "code",
   "execution_count": 126,
   "id": "528bfd10",
   "metadata": {},
   "outputs": [],
   "source": [
    "def goodsuggestion(text, hashcount):\n",
    "    correction = 0\n",
    "    misidentified = 0\n",
    "    good_suggestion = 0\n",
    "    for i in range(len(text)):\n",
    "        if text[i][0] == text[i][1]:\n",
    "            correction += 1\n",
    "        elif text[i][0] != text[i][1]:\n",
    "            if check_spelling(text[i][0], hashcount) != False:\n",
    "                misidentified += 1\n",
    "            else:\n",
    "                suggestion = suggestions(text[i][0])\n",
    "                good = correct_suggestion(suggestion, hashcount)\n",
    "                for n in good:\n",
    "                    if (len(good) <= 3) and (n == text[i][1]):\n",
    "                        good_suggestion += 1\n",
    "    return correction, misidentified, good_suggestion"
   ]
  },
  {
   "cell_type": "code",
   "execution_count": 127,
   "id": "b7259e69",
   "metadata": {},
   "outputs": [],
   "source": [
    "## Defining the BloomFilter Size\n",
    "\n",
    "blffiltersize = np.logspace(0, 9, num=20, dtype=int)"
   ]
  },
  {
   "cell_type": "markdown",
   "id": "564fa991",
   "metadata": {},
   "source": [
    "#### Function to use one hash function "
   ]
  },
  {
   "cell_type": "code",
   "execution_count": 128,
   "id": "2bcbbd48",
   "metadata": {},
   "outputs": [],
   "source": [
    "suggestionlist1 = []\n",
    "misidentified1 = []\n",
    "correction1 = []\n",
    "for n in range(len(blffiltersize)):\n",
    "    blf = BloomFilter(int(blffiltersize[n]))\n",
    "    addingword(\"1\")\n",
    "    response1 = goodsuggestion(text, \"1\")\n",
    "    misidentified1.append(response1[1])\n",
    "    suggestionlist1.append(response1[2])\n",
    "    correction1.append(response1[0])\n",
    "\n",
    "goodsuggestionaccuracy1 = []\n",
    "misidentifiedaccuracy1 =[]\n",
    "\n",
    "for i in range(len(misidentified1)):\n",
    "    goodsuggestionaccuracy= (suggestionlist1[i] / 25000)*100\n",
    "    misidentifiedaccuracy = (misidentified1[i] / 25000)*100\n",
    "    goodsuggestionaccuracy1.append(goodsuggestionaccuracy)\n",
    "    misidentifiedaccuracy1.append(misidentifiedaccuracy)"
   ]
  },
  {
   "cell_type": "markdown",
   "id": "d188ee34",
   "metadata": {},
   "source": [
    "#### Function to use two hash function "
   ]
  },
  {
   "cell_type": "code",
   "execution_count": 129,
   "id": "97ed3cea",
   "metadata": {},
   "outputs": [],
   "source": [
    "suggestionlist2 = []\n",
    "misidentified2 = []\n",
    "correction2 = []\n",
    "for n in range(len(blffiltersize)):\n",
    "    blf = BloomFilter(int(blffiltersize[n]))\n",
    "    addingword(\"2\")\n",
    "    response2 = goodsuggestion(text, \"2\")\n",
    "    misidentified2.append(response2[1])\n",
    "    suggestionlist2.append(response2[2])\n",
    "    correction2.append(response2[0])\n",
    "\n",
    "goodsuggestionaccuracy2 = []\n",
    "misidentifiedaccuracy2 =[]\n",
    "\n",
    "for i in range(len(misidentified2)):\n",
    "    goodsuggestionaccuracy = (suggestionlist2[i] / 25000)*100\n",
    "    misidentifiedaccuracy = (misidentified2[i] / 25000)*100\n",
    "    goodsuggestionaccuracy2.append(goodsuggestionaccuracy)\n",
    "    misidentifiedaccuracy2.append(misidentifiedaccuracy)"
   ]
  },
  {
   "cell_type": "markdown",
   "id": "51ffabd7",
   "metadata": {},
   "source": [
    "#### Function to use three hash function "
   ]
  },
  {
   "cell_type": "code",
   "execution_count": 130,
   "id": "a6a85318",
   "metadata": {},
   "outputs": [],
   "source": [
    "suggestionlist3 = []\n",
    "misidentified3 = []\n",
    "correction3 = []\n",
    "for n in range(len(blffiltersize)):\n",
    "    blf = BloomFilter(int(blffiltersize[n]))\n",
    "    addingword(\"3\")\n",
    "    response3 = goodsuggestion(text, \"3\")\n",
    "    misidentified3.append(response3[1])\n",
    "    suggestionlist3.append(response3[2])\n",
    "    correction3.append(response3[0])\n",
    "\n",
    "goodsuggestionaccuracy3 = []\n",
    "misidentifiedaccuracy3 =[]\n",
    "\n",
    "for i in range(len(misidentified3)):\n",
    "    goodsuggestionaccuracy = (suggestionlist3[i] / 25000)*100\n",
    "    misidentifiedaccuracy = (misidentified3[i] / 25000)*100\n",
    "    goodsuggestionaccuracy3.append(goodsuggestionaccuracy)\n",
    "    misidentifiedaccuracy3.append(misidentifiedaccuracy)"
   ]
  },
  {
   "cell_type": "markdown",
   "id": "a5d1cdeb",
   "metadata": {},
   "source": [
    "#### Plotting the effect of the size of the Filter "
   ]
  },
  {
   "cell_type": "code",
   "execution_count": 131,
   "id": "f22515cf",
   "metadata": {},
   "outputs": [
    {
     "data": {
      "image/png": "[encoded data removed]",
      "text/plain": [
       "<Figure size 700x700 with 1 Axes>"
      ]
     },
     "metadata": {},
     "output_type": "display_data"
    }
   ],
   "source": [
    "## Graph to show the effect size of the filter \n",
    "\n",
    "fig = plt.figure(figsize =(7,7))\n",
    "plt.xscale('log')\n",
    "plt.plot(blffiltersize, goodsuggestionaccuracy1, label=\"Good Suggestions %, 1 hash\")\n",
    "plt.plot(blffiltersize, goodsuggestionaccuracy2, label=\"Good Suggestions %, 2 hashes\")\n",
    "plt.plot(blffiltersize, goodsuggestionaccuracy3, label=\"Good Suggestions %, 3 hashes\")\n",
    "plt.plot(blffiltersize, misidentifiedaccuracy1, label=\"Misidentified %, 1 hash\")\n",
    "plt.plot(blffiltersize, misidentifiedaccuracy2, label=\"Misidentified %, 2 hashes\")\n",
    "plt.plot(blffiltersize, misidentifiedaccuracy3, label=\"Misidentified %, 3 hashes\")\n",
    "plt.xlabel('Bloom Filter Size')\n",
    "plt.ylabel(\"Bloom Filter Accuracy\")\n",
    "plt.legend(loc=\"center left\")\n",
    "plt.show()"
   ]
  },
  {
   "cell_type": "markdown",
   "id": "76aaa54d",
   "metadata": {},
   "source": [
    "#### Approximately how many bits is necessary for this approach to give good suggestions (as defined above) 90% of the time when using each of 1, 2, or 3 hash functions as above? \n",
    " - About 10^7 Bits are necessary for this approach to give suggestions 90% of the time when using each of 1, 2, or 3 hash functions."
   ]
  }
 ],
 "metadata": {
  "kernelspec": {
   "display_name": "Python 3 (ipykernel)",
   "language": "python",
   "name": "python3"
  },
  "language_info": {
   "codemirror_mode": {
    "name": "ipython",
    "version": 3
   },
   "file_extension": ".py",
   "mimetype": "text/x-python",
   "name": "python",
   "nbconvert_exporter": "python",
   "pygments_lexer": "ipython3",
   "version": "3.9.13"
  }
 },
 "nbformat": 4,
 "nbformat_minor": 5
}

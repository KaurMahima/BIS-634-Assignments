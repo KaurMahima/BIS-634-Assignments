{
 "cells": [
  {
   "cell_type": "markdown",
   "id": "59aee97f",
   "metadata": {},
   "source": [
    "## Exercise 1"
   ]
  },
  {
   "cell_type": "markdown",
   "id": "d8a79a40",
   "metadata": {},
   "source": [
    "Your friend says to you, \"you have to help me! I'm supposed to present in lab meeting in less than an hour, and I haven't been able to get the simplest thing to work!\" After you help them calm down, they explain: through a collaboration with a fitness app, they have a 4GB file of high-precision weights of exactly 500 million people throughout the world. Even with 8GB of RAM, they get a MemoryError when trying to load the file in and find the average weight. They show you their code which worked fine when they tested it on a small number of weights:"
   ]
  },
  {
   "cell_type": "raw",
   "id": "2145c9a3",
   "metadata": {},
   "source": [
    "with open('weights.txt') as f:\n",
    "    weights = []\n",
    "    for line in f:\n",
    "        weights.append(float(line))\n",
    "print(\"average =\", sum(weights) / len(weights))"
   ]
  },
  {
   "cell_type": "markdown",
   "id": "d9753f6c",
   "metadata": {},
   "source": [
    "Aha! You exclaim.\n",
    "\n",
    "Explain what went wrong (5 points). Suggest a way of storing all the data in memory that would work (5 points), and suggest a strategy for calculating the average that would not require storing all the data in memory (5 points).\n",
    "\n",
    "Remember, your friend has to present soon, so keep your answers concise but thorough. Assume your friend is reasonably computer literate and is not using a vastly outdated computer or installation of Python. (i.e. don't blame 32 bit systems.)"
   ]
  },
  {
   "cell_type": "markdown",
   "id": "a9b6dbb9",
   "metadata": {},
   "source": [
    "### Response"
   ]
  },
  {
   "cell_type": "markdown",
   "id": "b6daf028",
   "metadata": {},
   "source": [
    "**What went wrong?** <br>\n",
    " - Loading a large dataset directly into memory and performing computations on it and saving intermediate results of those computations can quickly fill up the memory. "
   ]
  },
  {
   "cell_type": "markdown",
   "id": "4d8bf1b1",
   "metadata": {},
   "source": [
    "**Suggest a way of storing all the data in memory that would work.** <br>\n",
    "\n",
    " - Method 1: Instead of using list to store the data, we can use array to store the data. Compared to array, list saves the address of the data(pointer), i.e., for each data in the dataset, the list need to store 1 data and 1 pointer, resulting in storage increase and cpu consumption. <br>\n",
    " - Method 2: Use \"read in chunks\" method: we can divide the large file into several small files for processing. After processing each small file, release this part of memory."
   ]
  },
  {
   "cell_type": "markdown",
   "id": "47dce2fa",
   "metadata": {},
   "source": [
    "**Strategy for calculating the average that would not require storing all the data in memory.**<br> \n",
    "\n",
    " - Generator functions come in very handy if this is your problem. Many popular python libraries like Keras and TensorFlow have specific functions and classes for generators. <br>\n",
    " - Pay special attention to any large or nested loops, along with any time you are loading large datasets into your program in one fell swoop.In these cases, the best practice is often to break the work into batches, allowing the memory to be freed in between calls.<br>\n",
    " - Instead of using list to store all the data, we can define a variable sum (total weight) and a variable count to count the number of data. For each 'for loop', each line of data is added into variable sum, and the variable count increase by one and then the average can be calculated by sum divide by count(sum/count)."
   ]
  }
 ],
 "metadata": {
  "kernelspec": {
   "display_name": "Python 3 (ipykernel)",
   "language": "python",
   "name": "python3"
  },
  "language_info": {
   "codemirror_mode": {
    "name": "ipython",
    "version": 3
   },
   "file_extension": ".py",
   "mimetype": "text/x-python",
   "name": "python",
   "nbconvert_exporter": "python",
   "pygments_lexer": "ipython3",
   "version": "3.9.13"
  }
 },
 "nbformat": 4,
 "nbformat_minor": 5
}

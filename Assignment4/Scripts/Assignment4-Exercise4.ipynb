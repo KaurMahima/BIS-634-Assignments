{
 "cells": [
  {
   "cell_type": "markdown",
   "id": "5d807d18",
   "metadata": {},
   "source": [
    "## Exercise4"
   ]
  },
  {
   "cell_type": "markdown",
   "id": "f2833a86",
   "metadata": {},
   "source": [
    "Implement a function that takes two strings and returns an optimal local alignment (6 points) and score (6 points) using the Smith-Waterman algorithm; insert \"-\" as needed to indicate a gap (this is part of the alignment points). Your function should also take and correctly use three keyword arguments with defaults as follows: match=1, gap_penalty=1, mismatch_penalty=1 (6 points). Here, that is a penalty of one will be applied to match scores for each missing or changed letter."
   ]
  },
  {
   "cell_type": "raw",
   "id": "2f39b272",
   "metadata": {},
   "source": [
    "For example:\n",
    "\n",
    "seq1, seq2, score = align('tgcatcgagaccctacgtgac', 'actagacctagcatcgac')\n",
    "\n",
    "# there are several possible results, but one is:\n",
    "# seq1 = agacccta-cgt-gac\n",
    "# seq2 = aga-cctagcatcgac\n",
    "# score = 8 (true for all results)\n",
    "\n",
    "seq1, seq2, score = align('tgcatcgagaccctacgtgac', 'actagacctagcatcgac', gap_penalty=2)\n",
    "# there is only one possibility: seq1 = seq2 = gcatcga, score=7\n"
   ]
  },
  {
   "cell_type": "markdown",
   "id": "9a63019d",
   "metadata": {},
   "source": [
    "Test it, and explain how your tests show that your function works. Be sure to test other values of match, gap_penalty, and mismatch_penalty (7 points)."
   ]
  },
  {
   "cell_type": "markdown",
   "id": "6abac3f3",
   "metadata": {},
   "source": [
    "## Response "
   ]
  },
  {
   "cell_type": "code",
   "execution_count": 135,
   "id": "2db8c3e2",
   "metadata": {},
   "outputs": [],
   "source": [
    "## Importing libraries \n",
    "\n",
    "import itertools\n",
    "import numpy as np\n",
    "import matplotlib.pyplot as plt"
   ]
  },
  {
   "cell_type": "markdown",
   "id": "e205a719",
   "metadata": {},
   "source": [
    "The basic steps for the Smith-Waterman algorithm include:\n",
    "\n",
    "1. Initialization of a matrix.\n",
    "2. Matrix Filling with the appropriate scores.\n",
    "3. Trace back the sequences for a suitable alignment.\n",
    "\n",
    "The algorithm has three parameters : match, gap_penalty and mismatch_penalty"
   ]
  },
  {
   "cell_type": "markdown",
   "id": "9574a384",
   "metadata": {},
   "source": [
    "#### Creating a function to initalize the scoring matrix"
   ]
  },
  {
   "cell_type": "code",
   "execution_count": 136,
   "id": "8078693e",
   "metadata": {},
   "outputs": [],
   "source": [
    "def scoring_matrix(seq1, seq2, match, mismatch, gap_penalty):\n",
    "    sequence = np.zeros((len(seq1) + 1, len(seq2) + 1), dtype = int)\n",
    "\n",
    "    max_score = 0\n",
    "    max_position = 0\n",
    "    for i, j in itertools.product(range(1, sequence.shape[0]), range(1, sequence.shape[1])):\n",
    "\n",
    "        if seq1[i - 1] == seq2[j - 1]:\n",
    "            match_score = sequence[i - 1, j - 1] + match\n",
    "       \n",
    "        else:\n",
    "            match_score = sequence[i - 1, j - 1] - mismatch\n",
    "        \n",
    "        delete = sequence[i - 1, j] - gap_penalty\n",
    "        insert = sequence[i, j - 1] - gap_penalty\n",
    "       \n",
    "        score = max(match_score, delete, insert, 0)\n",
    "        sequence[i, j] = score\n",
    "       \n",
    "        if score > max_score:\n",
    "            max_score = score\n",
    "            max_position = (i, j)\n",
    "    print (sequence)\n",
    "    return sequence, max_position"
   ]
  },
  {
   "cell_type": "markdown",
   "id": "50a2b1d6",
   "metadata": {},
   "source": [
    "#### Creating a function to decide the next move when traceback and A function traceback() to get the optimal alignment of seq1 with seq2"
   ]
  },
  {
   "cell_type": "code",
   "execution_count": 137,
   "id": "75381ee0",
   "metadata": {},
   "outputs": [],
   "source": [
    "def nextmove(sequence, x, y):\n",
    "    diagonal = sequence[x-1][y-1]\n",
    "    up = sequence[x-1][y]\n",
    "    left = sequence[x][y-1]\n",
    "    if diagonal >= up and diagonal >= left:\n",
    "        if diagonal != 0:\n",
    "            return 1\n",
    "        else: return 0\n",
    "    elif up > diagonal and up >= left:\n",
    "        if up != 0:\n",
    "            return 2\n",
    "        else: return 0\n",
    "    elif left > diagonal and left > up:\n",
    "        if left != 0:\n",
    "            return 3\n",
    "        else: return 0\n",
    "    else:\n",
    "        print(\"error\")\n",
    "        \n",
    "        \n",
    "def traceback(seq1, seq2, sequence, start_position):\n",
    "    aligned_seq1 = []\n",
    "    aligned_seq2 = []\n",
    "    x, y = start_position\n",
    "    move = nextmove(sequence, x, y)\n",
    "    while move != 0:\n",
    "        if move == 1:\n",
    "            aligned_seq1.append(seq1[x-1])\n",
    "            aligned_seq2.append(seq2[y-1])\n",
    "            x = x - 1\n",
    "            y = y - 1\n",
    "        elif move == 2:\n",
    "            aligned_seq1.append(seq1[x-1])\n",
    "            aligned_seq2.append('-')\n",
    "            x = x - 1\n",
    "        else:\n",
    "            aligned_seq1.append('-')\n",
    "            aligned_seq2.append(seq2[y-1])\n",
    "            y = y - 1\n",
    "\n",
    "        move = nextmove(sequence, x, y)\n",
    "    \n",
    "    aligned_seq1.append(seq1[x - 1])\n",
    "    aligned_seq2.append(seq2[y - 1])\n",
    "\n",
    "    return ''.join(reversed(aligned_seq1)), ''.join(reversed(aligned_seq2))"
   ]
  },
  {
   "cell_type": "markdown",
   "id": "8db2ae73",
   "metadata": {},
   "source": [
    "#### Creating a function for smith_waterman algorithm "
   ]
  },
  {
   "cell_type": "code",
   "execution_count": 138,
   "id": "7a8e1ebd",
   "metadata": {},
   "outputs": [],
   "source": [
    "def smith_waterman(seq1, seq2, match, mismatch, gap_penalty):\n",
    "    sequence, start_position = scoring_matrix(seq1, seq2, match, mismatch, gap_penalty)\n",
    "    seq1_aligned, seq2_aligned = traceback(seq1, seq2, sequence, start_position)\n",
    "    final_score = sequence[start_position[0]][start_position[1]]\n",
    "    \n",
    "    plt.xticks(range(len(seq2)), labels=seq2)\n",
    "    plt.yticks(range(len(seq1)), labels=seq1)\n",
    "    plt.imshow(sequence, interpolation='nearest',cmap='binary')\n",
    "    plt.gca().xaxis.tick_top()\n",
    "    plt.show()\n",
    "    \n",
    "    print (\"aligned seq1 = \", seq1_aligned)\n",
    "    print (\"aligned seq2 = \", seq2_aligned)\n",
    "    print (\"Best Alignment Score is\" , final_score)"
   ]
  },
  {
   "cell_type": "markdown",
   "id": "246d677d",
   "metadata": {},
   "source": [
    "#### Testing the above function where : seq1 = 'tgcatcgagaccctacgtgac' and seq2 = 'actagacctagcatcgac' "
   ]
  },
  {
   "cell_type": "code",
   "execution_count": 139,
   "id": "35492009",
   "metadata": {},
   "outputs": [
    {
     "name": "stdout",
     "output_type": "stream",
     "text": [
      "[[0 0 0 0 0 0 0 0 0 0 0 0 0 0 0 0 0 0 0]\n",
      " [0 0 0 1 0 0 0 0 0 1 0 0 0 0 1 0 0 0 0]\n",
      " [0 0 0 0 0 1 0 0 0 0 0 1 0 0 0 0 1 0 0]\n",
      " [0 0 1 0 0 0 0 1 1 0 0 0 2 1 0 1 0 0 1]\n",
      " [0 1 0 0 1 0 1 0 0 0 1 0 1 3 2 1 0 1 0]\n",
      " [0 0 0 1 0 0 0 0 0 1 0 0 0 2 4 3 2 1 0]\n",
      " [0 0 1 0 0 0 0 1 1 0 0 0 1 1 3 5 4 3 2]\n",
      " [0 0 0 0 0 1 0 0 0 0 0 1 0 0 2 4 6 5 4]\n",
      " [0 1 0 0 1 0 2 1 0 0 1 0 0 1 1 3 5 7 6]\n",
      " [0 0 0 0 0 2 1 1 0 0 0 2 1 0 0 2 4 6 6]\n",
      " [0 1 0 0 1 1 3 2 1 0 1 1 1 2 1 1 3 5 5]\n",
      " [0 0 2 1 0 0 2 4 3 2 1 0 2 1 1 2 2 4 6]\n",
      " [0 0 1 1 0 0 1 3 5 4 3 2 1 1 0 2 1 3 5]\n",
      " [0 0 1 0 0 0 0 2 4 4 3 2 3 2 1 1 1 2 4]\n",
      " [0 0 0 2 1 0 0 1 3 5 4 3 2 2 3 2 1 1 3]\n",
      " [0 1 0 1 3 2 1 0 2 4 6 5 4 3 2 2 1 2 2]\n",
      " [0 0 2 1 2 2 1 2 1 3 5 5 6 5 4 3 2 1 3]\n",
      " [0 0 1 1 1 3 2 1 1 2 4 6 5 5 4 3 4 3 2]\n",
      " [0 0 0 2 1 2 2 1 0 2 3 5 5 4 6 5 4 3 2]\n",
      " [0 0 0 1 1 2 1 1 0 1 2 4 4 4 5 5 6 5 4]\n",
      " [0 1 0 0 2 1 3 2 1 0 2 3 3 5 4 4 5 7 6]\n",
      " [0 0 2 1 1 1 2 4 3 2 1 2 4 4 4 5 4 6 8]]\n"
     ]
    },
    {
     "data": {
      "image/png": "[encoded data removed]",
      "text/plain": [
       "<Figure size 640x480 with 1 Axes>"
      ]
     },
     "metadata": {},
     "output_type": "display_data"
    },
    {
     "name": "stdout",
     "output_type": "stream",
     "text": [
      "aligned seq1 =  agacccta-cgt-gac\n",
      "aligned seq2 =  agacc-tagcatcgac\n",
      "Best Alignment Score is 8\n"
     ]
    }
   ],
   "source": [
    "smith_waterman('tgcatcgagaccctacgtgac', 'actagacctagcatcgac', 1, 1, 1)"
   ]
  },
  {
   "cell_type": "markdown",
   "id": "d165e4de",
   "metadata": {},
   "source": [
    "#### Testing the above function where : seq1 = 'tgcatcgagaccctacgtgac' and seq2 = 'actagacctagcatcgac' and gap_penalty = 2"
   ]
  },
  {
   "cell_type": "code",
   "execution_count": 140,
   "id": "36af57d1",
   "metadata": {},
   "outputs": [
    {
     "name": "stdout",
     "output_type": "stream",
     "text": [
      "[[0 0 0 0 0 0 0 0 0 0 0 0 0 0 0 0 0 0 0]\n",
      " [0 0 0 1 0 0 0 0 0 1 0 0 0 0 1 0 0 0 0]\n",
      " [0 0 0 0 0 1 0 0 0 0 0 1 0 0 0 0 1 0 0]\n",
      " [0 0 1 0 0 0 0 1 1 0 0 0 2 0 0 1 0 0 1]\n",
      " [0 1 0 0 1 0 1 0 0 0 1 0 0 3 1 0 0 1 0]\n",
      " [0 0 0 1 0 0 0 0 0 1 0 0 0 1 4 2 0 0 0]\n",
      " [0 0 1 0 0 0 0 1 1 0 0 0 1 0 2 5 3 1 1]\n",
      " [0 0 0 0 0 1 0 0 0 0 0 1 0 0 0 3 6 4 2]\n",
      " [0 1 0 0 1 0 2 0 0 0 1 0 0 1 0 1 4 7 5]\n",
      " [0 0 0 0 0 2 0 1 0 0 0 2 0 0 0 0 2 5 6]\n",
      " [0 1 0 0 1 0 3 1 0 0 1 0 1 1 0 0 0 3 4]\n",
      " [0 0 2 0 0 0 1 4 2 0 0 0 1 0 0 1 0 1 4]\n",
      " [0 0 1 1 0 0 0 2 5 3 1 0 1 0 0 1 0 0 2]\n",
      " [0 0 1 0 0 0 0 1 3 4 2 0 1 0 0 1 0 0 1]\n",
      " [0 0 0 2 0 0 0 0 1 4 3 1 0 0 1 0 0 0 0]\n",
      " [0 1 0 0 3 1 1 0 0 2 5 3 1 1 0 0 0 1 0]\n",
      " [0 0 2 0 1 2 0 2 1 0 3 4 4 2 0 1 0 0 2]\n",
      " [0 0 0 1 0 2 1 0 1 0 1 4 3 3 1 0 2 0 0]\n",
      " [0 0 0 1 0 0 1 0 0 2 0 2 3 2 4 2 0 1 0]\n",
      " [0 0 0 0 0 1 0 0 0 0 1 1 1 2 2 3 3 1 0]\n",
      " [0 1 0 0 1 0 2 0 0 0 1 0 0 2 1 1 2 4 2]\n",
      " [0 0 2 0 0 0 0 3 1 0 0 0 1 0 1 2 0 2 5]]\n"
     ]
    },
    {
     "data": {
      "image/png": "[encoded data removed]",
      "text/plain": [
       "<Figure size 640x480 with 1 Axes>"
      ]
     },
     "metadata": {},
     "output_type": "display_data"
    },
    {
     "name": "stdout",
     "output_type": "stream",
     "text": [
      "aligned seq1 =  gcatcga\n",
      "aligned seq2 =  gcatcga\n",
      "Best Alignment Score is 7\n"
     ]
    }
   ],
   "source": [
    "smith_waterman('tgcatcgagaccctacgtgac', 'actagacctagcatcgac', 1, 1, 2)"
   ]
  },
  {
   "cell_type": "markdown",
   "id": "bfca5e67",
   "metadata": {},
   "source": [
    "#### Testing the above function where : seq1 = 'tgcatcgagaccctacgtgac' and seq2 = 'actagacctagcatcgac' , and and match, gap_penalty, and mismatch_penalty = (3,3,3)"
   ]
  },
  {
   "cell_type": "code",
   "execution_count": 141,
   "id": "5da446f2",
   "metadata": {},
   "outputs": [
    {
     "name": "stdout",
     "output_type": "stream",
     "text": [
      "[[ 0  0  0  0  0  0  0  0  0  0  0  0  0  0  0  0  0  0  0]\n",
      " [ 0  0  0  3  0  0  0  0  0  3  0  0  0  0  3  0  0  0  0]\n",
      " [ 0  0  0  0  0  3  0  0  0  0  0  3  0  0  0  0  3  0  0]\n",
      " [ 0  0  3  0  0  0  0  3  3  0  0  0  6  3  0  3  0  0  3]\n",
      " [ 0  3  0  0  3  0  3  0  0  0  3  0  3  9  6  3  0  3  0]\n",
      " [ 0  0  0  3  0  0  0  0  0  3  0  0  0  6 12  9  6  3  0]\n",
      " [ 0  0  3  0  0  0  0  3  3  0  0  0  3  3  9 15 12  9  6]\n",
      " [ 0  0  0  0  0  3  0  0  0  0  0  3  0  0  6 12 18 15 12]\n",
      " [ 0  3  0  0  3  0  6  3  0  0  3  0  0  3  3  9 15 21 18]\n",
      " [ 0  0  0  0  0  6  3  3  0  0  0  6  3  0  0  6 12 18 18]\n",
      " [ 0  3  0  0  3  3  9  6  3  0  3  3  3  6  3  3  9 15 15]\n",
      " [ 0  0  6  3  0  0  6 12  9  6  3  0  6  3  3  6  6 12 18]\n",
      " [ 0  0  3  3  0  0  3  9 15 12  9  6  3  3  0  6  3  9 15]\n",
      " [ 0  0  3  0  0  0  0  6 12 12  9  6  9  6  3  3  3  6 12]\n",
      " [ 0  0  0  6  3  0  0  3  9 15 12  9  6  6  9  6  3  3  9]\n",
      " [ 0  3  0  3  9  6  3  0  6 12 18 15 12  9  6  6  3  6  6]\n",
      " [ 0  0  6  3  6  6  3  6  3  9 15 15 18 15 12  9  6  3  9]\n",
      " [ 0  0  3  3  3  9  6  3  3  6 12 18 15 15 12  9 12  9  6]\n",
      " [ 0  0  0  6  3  6  6  3  0  6  9 15 15 12 18 15 12  9  6]\n",
      " [ 0  0  0  3  3  6  3  3  0  3  6 12 12 12 15 15 18 15 12]\n",
      " [ 0  3  0  0  6  3  9  6  3  0  6  9  9 15 12 12 15 21 18]\n",
      " [ 0  0  6  3  3  3  6 12  9  6  3  6 12 12 12 15 12 18 24]]\n"
     ]
    },
    {
     "data": {
      "image/png": "[encoded data removed]",
      "text/plain": [
       "<Figure size 640x480 with 1 Axes>"
      ]
     },
     "metadata": {},
     "output_type": "display_data"
    },
    {
     "name": "stdout",
     "output_type": "stream",
     "text": [
      "aligned seq1 =  agacccta-cgt-gac\n",
      "aligned seq2 =  agacc-tagcatcgac\n",
      "Best Alignment Score is 24\n"
     ]
    }
   ],
   "source": [
    "smith_waterman('tgcatcgagaccctacgtgac', 'actagacctagcatcgac', 3, 3, 3)"
   ]
  },
  {
   "cell_type": "markdown",
   "id": "804557c8",
   "metadata": {},
   "source": [
    "#### Testing the above function where : seq1 = 'tgcatcgagaccctacgtgac' and seq2 = 'actagacctagcatcgac' , and and match, gap_penalty, and mismatch_penalty = (3,3,5)"
   ]
  },
  {
   "cell_type": "code",
   "execution_count": 142,
   "id": "976c62f7",
   "metadata": {},
   "outputs": [
    {
     "name": "stdout",
     "output_type": "stream",
     "text": [
      "[[ 0  0  0  0  0  0  0  0  0  0  0  0  0  0  0  0  0  0  0]\n",
      " [ 0  0  0  3  0  0  0  0  0  3  0  0  0  0  3  0  0  0  0]\n",
      " [ 0  0  0  0  0  3  0  0  0  0  0  3  0  0  0  0  3  0  0]\n",
      " [ 0  0  3  0  0  0  0  3  3  0  0  0  6  1  0  3  0  0  3]\n",
      " [ 0  3  0  0  3  0  3  0  0  0  3  0  1  9  4  0  0  3  0]\n",
      " [ 0  0  0  3  0  0  0  0  0  3  0  0  0  4 12  7  2  0  0]\n",
      " [ 0  0  3  0  0  0  0  3  3  0  0  0  3  0  7 15 10  5  3]\n",
      " [ 0  0  0  0  0  3  0  0  0  0  0  3  0  0  2 10 18 13  8]\n",
      " [ 0  3  0  0  3  0  6  1  0  0  3  0  0  3  0  5 13 21 16]\n",
      " [ 0  0  0  0  0  6  1  3  0  0  0  6  1  0  0  0  8 16 18]\n",
      " [ 0  3  0  0  3  1  9  4  0  0  3  1  3  4  0  0  3 11 13]\n",
      " [ 0  0  6  1  0  0  4 12  7  2  0  0  4  0  1  3  0  6 14]\n",
      " [ 0  0  3  3  0  0  0  7 15 10  5  0  3  1  0  4  0  1  9]\n",
      " [ 0  0  3  0  0  0  0  3 10 12  7  2  3  0  0  3  1  0  4]\n",
      " [ 0  0  0  6  1  0  0  0  5 13  9  4  0  0  3  0  0  0  0]\n",
      " [ 0  3  0  1  9  4  3  0  0  8 16 11  6  3  0  0  0  3  0]\n",
      " [ 0  0  6  1  4  6  1  6  3  3 11 13 14  9  4  3  0  0  6]\n",
      " [ 0  0  1  3  0  7  3  1  3  0  6 14 10 11  6  1  6  1  1]\n",
      " [ 0  0  0  4  0  2  4  0  0  6  1  9 11  7 14  9  4  3  0]\n",
      " [ 0  0  0  0  1  3  0  1  0  1  3  4  6  8  9 11 12  7  2]\n",
      " [ 0  3  0  0  3  0  6  1  0  0  4  0  1  9  5  6  8 15 10]\n",
      " [ 0  0  6  1  0  0  1  9  4  0  0  1  3  4  6  8  3 10 18]]\n"
     ]
    },
    {
     "data": {
      "image/png": "[encoded data removed]",
      "text/plain": [
       "<Figure size 640x480 with 1 Axes>"
      ]
     },
     "metadata": {},
     "output_type": "display_data"
    },
    {
     "name": "stdout",
     "output_type": "stream",
     "text": [
      "aligned seq1 =  gcatcga\n",
      "aligned seq2 =  gcatcga\n",
      "Best Alignment Score is 21\n"
     ]
    }
   ],
   "source": [
    "smith_waterman('tgcatcgagaccctacgtgac', 'actagacctagcatcgac', 3, 3, 5)"
   ]
  },
  {
   "cell_type": "markdown",
   "id": "b6a9a905",
   "metadata": {},
   "source": [
    "#### Explaination : Smith–Waterman algorithm aligns two sequences by matches/mismatches (also known as substitutions), insertions, and deletions. Both insertions and deletions are the operations that introduce gaps, which are represented by dashes. The algorithm has four major steps : Determining the substitution matrix and the gap penalty scheme, Initializing the scoring matrix, Scoring and Traceback. In the algorithm the two sequences are arranged in a matrix form with A+1columns and B+1rows and the values in the first row and first column are set to zero. The second and crucial step of the algorithm is filling the entire matrix, so it is more important to know the neighbor values (diagonal, upper and left) of the current cell to fill each and every cell. The second and crucial step of the algorithm is filling the entire matrix. The final step for the appropriate alignment is trace backing, prior to that one needs to find out the maximum score obtained in the entire matrix for the local alignment of the sequences. From the scoring matrix, the S-W algorithm finds the highest score and traces back the path of the previous highest scores. This in essence determines the places in the query sequence in which to place dashes (insertions or deletions). The calculated path can then report to the user the sequence in the database that best matches the query string. The two alignments can be given with a score, for matching as +1 , mismatch as -1 and gap penalty as -1(the values can be varied), sum up all the individual scores and the alignment which has maximum score after this can be taken as the best alignment. \n",
    "\n",
    "Reference : https://vlab.amrita.edu/?sub=3&brch=274&sim=1433&cnt=1"
   ]
  }
 ],
 "metadata": {
  "kernelspec": {
   "display_name": "Python 3 (ipykernel)",
   "language": "python",
   "name": "python3"
  },
  "language_info": {
   "codemirror_mode": {
    "name": "ipython",
    "version": 3
   },
   "file_extension": ".py",
   "mimetype": "text/x-python",
   "name": "python",
   "nbconvert_exporter": "python",
   "pygments_lexer": "ipython3",
   "version": "3.9.13"
  }
 },
 "nbformat": 4,
 "nbformat_minor": 5
}

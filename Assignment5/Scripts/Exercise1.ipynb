{
 "cells": [
  {
   "cell_type": "markdown",
   "id": "9856aa1d",
   "metadata": {},
   "source": [
    "## Exercise 1"
   ]
  },
  {
   "cell_type": "markdown",
   "id": "50e039a3",
   "metadata": {},
   "source": [
    "Implement a two-dimensional k-nearest neighbors classifier (in particular, do not use sklearn for k-nearest neighbors here): given a list of (x, y; class) data, store this data in a quad-tree (14 points). Given a new (x, y) point and a value of k (the number of nearest neighbors to examine), it should be able to identify the most common class within those k nearest neighbors (14 points). You may assume distance will be measured using the traditional euclidean distance.\n",
    "\n",
    "Cinar and Koklu (2019) used various machine learning strategies to predict the type of rice based on image analysis. In this exercise, we'll do something similar.\n",
    "\n",
    "Begin by going to the journal page and downloading the rice dataset (there's a dataset button on the right). Note that you can load data directly from the excel file via:"
   ]
  },
  {
   "cell_type": "raw",
   "id": "63f51e47",
   "metadata": {},
   "source": [
    "data = pd.read_excel('Rice_Osmancik_Cammeo_Dataset.xlsx')"
   ]
  },
  {
   "cell_type": "markdown",
   "id": "3c285818",
   "metadata": {},
   "source": [
    "Normalize the seven quantitative columns to a mean of 0 and standard deviation 1. (3 points)\n",
    "\n",
    "Reduce the data to two dimensions using PCA. You can do this with e.g.:"
   ]
  },
  {
   "cell_type": "raw",
   "id": "85d0d9d3",
   "metadata": {},
   "source": [
    "from sklearn import decomposition\n",
    "pca = decomposition.PCA(n_components=2)\n",
    "data_reduced = pca.fit_transform(data[my_cols])\n",
    "pc0 = data_reduced[:, 0]\n",
    "pc1 = data_reduced[:, 1]"
   ]
  },
  {
   "cell_type": "markdown",
   "id": "80741a26",
   "metadata": {},
   "source": [
    "That is, pc0 can be thought of as a vector of x-values, pc1 as a vector of y-values, and data[\"CLASS\"] as a vector of the corresponding types of rice.\n",
    "\n",
    "Plot this on a scatterplot, color-coding by type of rice. (3 points)\n",
    "\n",
    "Comment on what the graph suggests about the effeciveness of using k-nearest neighbors on this 2-dimensional reduction of the data to predict the type of rice. (4 points)\n",
    "\n",
    "Using a reasonable train-test split with your k-nearest neighbors implementation, give the confusion matrix for predicting the type of rice with k=1. (4 points) Repeat for k=5. (4 points)\n",
    "\n",
    "Provide a brief interpretation of what the confusion matrix results mean. (4 points)\n",
    "\n",
    "Recall: All normalization must be based on the training set mean and standard deviation, not on data including the test set. Once the pca reduction has been trained, you can apply it to test data via, e.g."
   ]
  },
  {
   "cell_type": "raw",
   "id": "03ca843d",
   "metadata": {},
   "source": [
    "test_data_reduced = pca.transform(test_data[my_cols])"
   ]
  },
  {
   "cell_type": "markdown",
   "id": "17961c1c",
   "metadata": {},
   "source": [
    "(Note: we use .fit_transform with the training data and .transform with the test data.)\n",
    "\n",
    "Hints:\n",
    "\n",
    " - The quad tree can construct itself from all the data by dividing into children if there's enough points for that to be reasonable, each one of which constructs itself recursively. Only the leaf nodes need to keep track of the points; the parent trees can just ask for all_points recursively.It's theoretically possible that you could have repeated x,y points... don't get stuck in an infinite loop\n",
    "- If you're looking for the k nearest neighbors, to get your initial circle, stop descending if the child tree you'd go into doesn't have k points. (Alternatively, move up a level if you don't have enough points; you can do this easily if each tree knows its _parent.)\n",
    " - I have a method contains(self, x, y) which determines if the box of my tree's bounds (xlo, ylo, xhi, yhi) contains the given (x,y) point... this is used by a _within_distance(self, x, y, d) that returns true or false depending on if the point is within a distance d of the box. This is used by a recursive leaves_within_distance function that finds all of the leaves (i.e. the ones with no children) within a given distance of a point.\n",
    " - Once I had found the distances within my tree, to find the indices of the smallest k distances, I used the code: min_i = np.argpartition(distances, k)[:k]\n",
    " - When I did this, I tested it by making a function that directly checked all points to find the k-nearest points (you can do this in about 4 lines of code) and used that to have a known truth to help debug/validate the quad-tree-based solution."
   ]
  },
  {
   "cell_type": "markdown",
   "id": "1eea433e",
   "metadata": {},
   "source": [
    "## Response"
   ]
  },
  {
   "cell_type": "code",
   "execution_count": 665,
   "id": "ca7015bb",
   "metadata": {},
   "outputs": [],
   "source": [
    "import pandas as pd\n",
    "import numpy as np\n",
    "import seaborn as sns\n",
    "import plotnine as p9\n",
    "import matplotlib.pyplot as plt\n",
    "from sklearn import decomposition\n",
    "import warnings\n",
    "warnings.filterwarnings(\"ignore\")\n",
    "from sklearn.model_selection import KFold, train_test_split\n",
    "from sklearn.preprocessing import StandardScaler\n",
    "from sklearn.neighbors import KNeighborsClassifier\n",
    "from sklearn.metrics import classification_report, confusion_matrix, accuracy_score"
   ]
  },
  {
   "cell_type": "code",
   "execution_count": 666,
   "id": "64a9c417",
   "metadata": {},
   "outputs": [],
   "source": [
    "dataset = pd.read_excel('/Users/mahimakaur/desktop/Rice_Cammeo_Osmancik.xlsx')"
   ]
  },
  {
   "cell_type": "code",
   "execution_count": 667,
   "id": "f2b7a5db",
   "metadata": {},
   "outputs": [
    {
     "data": {
      "text/html": [
       "<div>\n",
       "<style scoped>\n",
       "    .dataframe tbody tr th:only-of-type {\n",
       "        vertical-align: middle;\n",
       "    }\n",
       "\n",
       "    .dataframe tbody tr th {\n",
       "        vertical-align: top;\n",
       "    }\n",
       "\n",
       "    .dataframe thead th {\n",
       "        text-align: right;\n",
       "    }\n",
       "</style>\n",
       "<table border=\"1\" class=\"dataframe\">\n",
       "  <thead>\n",
       "    <tr style=\"text-align: right;\">\n",
       "      <th></th>\n",
       "      <th>Area</th>\n",
       "      <th>Perimeter</th>\n",
       "      <th>Major_Axis_Length</th>\n",
       "      <th>Minor_Axis_Length</th>\n",
       "      <th>Eccentricity</th>\n",
       "      <th>Convex_Area</th>\n",
       "      <th>Extent</th>\n",
       "      <th>Class</th>\n",
       "    </tr>\n",
       "  </thead>\n",
       "  <tbody>\n",
       "    <tr>\n",
       "      <th>0</th>\n",
       "      <td>15231</td>\n",
       "      <td>525.578979</td>\n",
       "      <td>229.749878</td>\n",
       "      <td>85.093788</td>\n",
       "      <td>0.928882</td>\n",
       "      <td>15617</td>\n",
       "      <td>0.572896</td>\n",
       "      <td>Cammeo</td>\n",
       "    </tr>\n",
       "    <tr>\n",
       "      <th>1</th>\n",
       "      <td>14656</td>\n",
       "      <td>494.311005</td>\n",
       "      <td>206.020065</td>\n",
       "      <td>91.730972</td>\n",
       "      <td>0.895405</td>\n",
       "      <td>15072</td>\n",
       "      <td>0.615436</td>\n",
       "      <td>Cammeo</td>\n",
       "    </tr>\n",
       "    <tr>\n",
       "      <th>2</th>\n",
       "      <td>14634</td>\n",
       "      <td>501.122009</td>\n",
       "      <td>214.106781</td>\n",
       "      <td>87.768288</td>\n",
       "      <td>0.912118</td>\n",
       "      <td>14954</td>\n",
       "      <td>0.693259</td>\n",
       "      <td>Cammeo</td>\n",
       "    </tr>\n",
       "    <tr>\n",
       "      <th>3</th>\n",
       "      <td>13176</td>\n",
       "      <td>458.342987</td>\n",
       "      <td>193.337387</td>\n",
       "      <td>87.448395</td>\n",
       "      <td>0.891861</td>\n",
       "      <td>13368</td>\n",
       "      <td>0.640669</td>\n",
       "      <td>Cammeo</td>\n",
       "    </tr>\n",
       "    <tr>\n",
       "      <th>4</th>\n",
       "      <td>14688</td>\n",
       "      <td>507.166992</td>\n",
       "      <td>211.743378</td>\n",
       "      <td>89.312454</td>\n",
       "      <td>0.906691</td>\n",
       "      <td>15262</td>\n",
       "      <td>0.646024</td>\n",
       "      <td>Cammeo</td>\n",
       "    </tr>\n",
       "  </tbody>\n",
       "</table>\n",
       "</div>"
      ],
      "text/plain": [
       "    Area   Perimeter  Major_Axis_Length  Minor_Axis_Length  Eccentricity  \\\n",
       "0  15231  525.578979         229.749878          85.093788      0.928882   \n",
       "1  14656  494.311005         206.020065          91.730972      0.895405   \n",
       "2  14634  501.122009         214.106781          87.768288      0.912118   \n",
       "3  13176  458.342987         193.337387          87.448395      0.891861   \n",
       "4  14688  507.166992         211.743378          89.312454      0.906691   \n",
       "\n",
       "   Convex_Area    Extent   Class  \n",
       "0        15617  0.572896  Cammeo  \n",
       "1        15072  0.615436  Cammeo  \n",
       "2        14954  0.693259  Cammeo  \n",
       "3        13368  0.640669  Cammeo  \n",
       "4        15262  0.646024  Cammeo  "
      ]
     },
     "execution_count": 667,
     "metadata": {},
     "output_type": "execute_result"
    }
   ],
   "source": [
    "dataset.head()"
   ]
  },
  {
   "cell_type": "code",
   "execution_count": 668,
   "id": "98526a59",
   "metadata": {},
   "outputs": [
    {
     "name": "stdout",
     "output_type": "stream",
     "text": [
      "<class 'pandas.core.frame.DataFrame'>\n",
      "RangeIndex: 3810 entries, 0 to 3809\n",
      "Data columns (total 7 columns):\n",
      " #   Column             Non-Null Count  Dtype  \n",
      "---  ------             --------------  -----  \n",
      " 0   Area               3810 non-null   int64  \n",
      " 1   Perimeter          3810 non-null   float64\n",
      " 2   Major_Axis_Length  3810 non-null   float64\n",
      " 3   Minor_Axis_Length  3810 non-null   float64\n",
      " 4   Eccentricity       3810 non-null   float64\n",
      " 5   Convex_Area        3810 non-null   int64  \n",
      " 6   Extent             3810 non-null   float64\n",
      "dtypes: float64(5), int64(2)\n",
      "memory usage: 208.5 KB\n"
     ]
    }
   ],
   "source": [
    "data.info()"
   ]
  },
  {
   "cell_type": "code",
   "execution_count": 669,
   "id": "9a6382b4",
   "metadata": {},
   "outputs": [],
   "source": [
    "##Creating a dataset without the last column\n",
    "\n",
    "data = dataset.iloc[:,0:7]"
   ]
  },
  {
   "cell_type": "code",
   "execution_count": 670,
   "id": "ca81dc8f",
   "metadata": {},
   "outputs": [],
   "source": [
    "##creating a dataset for the class column \n",
    "\n",
    "y = np.array(dataset.iloc[:,-1])"
   ]
  },
  {
   "cell_type": "code",
   "execution_count": 671,
   "id": "9f4ac118",
   "metadata": {},
   "outputs": [],
   "source": [
    "## Standardizing the dataset \n",
    "\n",
    "std_data = (data - data.mean())/data.std()"
   ]
  },
  {
   "cell_type": "code",
   "execution_count": 672,
   "id": "ff1b9483",
   "metadata": {},
   "outputs": [
    {
     "data": {
      "text/html": [
       "<div>\n",
       "<style scoped>\n",
       "    .dataframe tbody tr th:only-of-type {\n",
       "        vertical-align: middle;\n",
       "    }\n",
       "\n",
       "    .dataframe tbody tr th {\n",
       "        vertical-align: top;\n",
       "    }\n",
       "\n",
       "    .dataframe thead th {\n",
       "        text-align: right;\n",
       "    }\n",
       "</style>\n",
       "<table border=\"1\" class=\"dataframe\">\n",
       "  <thead>\n",
       "    <tr style=\"text-align: right;\">\n",
       "      <th></th>\n",
       "      <th>Area</th>\n",
       "      <th>Perimeter</th>\n",
       "      <th>Major_Axis_Length</th>\n",
       "      <th>Minor_Axis_Length</th>\n",
       "      <th>Eccentricity</th>\n",
       "      <th>Convex_Area</th>\n",
       "      <th>Extent</th>\n",
       "    </tr>\n",
       "  </thead>\n",
       "  <tbody>\n",
       "    <tr>\n",
       "      <th>count</th>\n",
       "      <td>3.810000e+03</td>\n",
       "      <td>3.810000e+03</td>\n",
       "      <td>3.810000e+03</td>\n",
       "      <td>3.810000e+03</td>\n",
       "      <td>3.810000e+03</td>\n",
       "      <td>3.810000e+03</td>\n",
       "      <td>3.810000e+03</td>\n",
       "    </tr>\n",
       "    <tr>\n",
       "      <th>mean</th>\n",
       "      <td>-2.124285e-16</td>\n",
       "      <td>-5.739940e-16</td>\n",
       "      <td>-1.181324e-16</td>\n",
       "      <td>-2.456478e-16</td>\n",
       "      <td>9.097418e-16</td>\n",
       "      <td>2.152259e-16</td>\n",
       "      <td>-4.754435e-16</td>\n",
       "    </tr>\n",
       "    <tr>\n",
       "      <th>std</th>\n",
       "      <td>1.000000e+00</td>\n",
       "      <td>1.000000e+00</td>\n",
       "      <td>1.000000e+00</td>\n",
       "      <td>1.000000e+00</td>\n",
       "      <td>1.000000e+00</td>\n",
       "      <td>1.000000e+00</td>\n",
       "      <td>1.000000e+00</td>\n",
       "    </tr>\n",
       "    <tr>\n",
       "      <th>min</th>\n",
       "      <td>-2.953604e+00</td>\n",
       "      <td>-2.672668e+00</td>\n",
       "      <td>-2.493699e+00</td>\n",
       "      <td>-4.674031e+00</td>\n",
       "      <td>-5.266589e+00</td>\n",
       "      <td>-2.942926e+00</td>\n",
       "      <td>-2.130034e+00</td>\n",
       "    </tr>\n",
       "    <tr>\n",
       "      <th>25%</th>\n",
       "      <td>-7.488177e-01</td>\n",
       "      <td>-7.892340e-01</td>\n",
       "      <td>-8.265593e-01</td>\n",
       "      <td>-6.251605e-01</td>\n",
       "      <td>-6.950351e-01</td>\n",
       "      <td>-7.463521e-01</td>\n",
       "      <td>-8.165818e-01</td>\n",
       "    </tr>\n",
       "    <tr>\n",
       "      <th>50%</th>\n",
       "      <td>-1.421335e-01</td>\n",
       "      <td>-1.513238e-01</td>\n",
       "      <td>-1.699936e-01</td>\n",
       "      <td>2.109949e-02</td>\n",
       "      <td>1.046992e-01</td>\n",
       "      <td>-1.384360e-01</td>\n",
       "      <td>-2.145634e-01</td>\n",
       "    </tr>\n",
       "    <tr>\n",
       "      <th>75%</th>\n",
       "      <td>7.401849e-01</td>\n",
       "      <td>8.271624e-01</td>\n",
       "      <td>8.467241e-01</td>\n",
       "      <td>6.684203e-01</td>\n",
       "      <td>7.550077e-01</td>\n",
       "      <td>7.493101e-01</td>\n",
       "      <td>8.367238e-01</td>\n",
       "    </tr>\n",
       "    <tr>\n",
       "      <th>max</th>\n",
       "      <td>3.605050e+00</td>\n",
       "      <td>2.646475e+00</td>\n",
       "      <td>2.878973e+00</td>\n",
       "      <td>3.704952e+00</td>\n",
       "      <td>2.936761e+00</td>\n",
       "      <td>3.458976e+00</td>\n",
       "      <td>2.577922e+00</td>\n",
       "    </tr>\n",
       "  </tbody>\n",
       "</table>\n",
       "</div>"
      ],
      "text/plain": [
       "               Area     Perimeter  Major_Axis_Length  Minor_Axis_Length  \\\n",
       "count  3.810000e+03  3.810000e+03       3.810000e+03       3.810000e+03   \n",
       "mean  -2.124285e-16 -5.739940e-16      -1.181324e-16      -2.456478e-16   \n",
       "std    1.000000e+00  1.000000e+00       1.000000e+00       1.000000e+00   \n",
       "min   -2.953604e+00 -2.672668e+00      -2.493699e+00      -4.674031e+00   \n",
       "25%   -7.488177e-01 -7.892340e-01      -8.265593e-01      -6.251605e-01   \n",
       "50%   -1.421335e-01 -1.513238e-01      -1.699936e-01       2.109949e-02   \n",
       "75%    7.401849e-01  8.271624e-01       8.467241e-01       6.684203e-01   \n",
       "max    3.605050e+00  2.646475e+00       2.878973e+00       3.704952e+00   \n",
       "\n",
       "       Eccentricity   Convex_Area        Extent  \n",
       "count  3.810000e+03  3.810000e+03  3.810000e+03  \n",
       "mean   9.097418e-16  2.152259e-16 -4.754435e-16  \n",
       "std    1.000000e+00  1.000000e+00  1.000000e+00  \n",
       "min   -5.266589e+00 -2.942926e+00 -2.130034e+00  \n",
       "25%   -6.950351e-01 -7.463521e-01 -8.165818e-01  \n",
       "50%    1.046992e-01 -1.384360e-01 -2.145634e-01  \n",
       "75%    7.550077e-01  7.493101e-01  8.367238e-01  \n",
       "max    2.936761e+00  3.458976e+00  2.577922e+00  "
      ]
     },
     "execution_count": 672,
     "metadata": {},
     "output_type": "execute_result"
    }
   ],
   "source": [
    "std_data.describe()"
   ]
  },
  {
   "cell_type": "code",
   "execution_count": 673,
   "id": "f7bf8bb8",
   "metadata": {},
   "outputs": [],
   "source": [
    "## Reducing the data to two dimensions using PCA\n",
    "\n",
    "PCA = decomposition.PCA(n_components=2)\n",
    "data_reduced = PCA.fit_transform(std_data)\n",
    "PC0 = data_reduced[:, 0]\n",
    "PC1 = data_reduced[:, 1]"
   ]
  },
  {
   "cell_type": "code",
   "execution_count": 674,
   "id": "6c7f1924",
   "metadata": {},
   "outputs": [
    {
     "data": {
      "text/plain": [
       "array([[ 3.81212784, -2.16504685],\n",
       "       [ 2.47683257,  0.04529019],\n",
       "       [ 2.63820924, -0.62153372],\n",
       "       ...,\n",
       "       [-0.43662669,  0.10358082],\n",
       "       [-3.58746234, -0.37565233],\n",
       "       [-2.55575212,  3.36079599]])"
      ]
     },
     "execution_count": 674,
     "metadata": {},
     "output_type": "execute_result"
    }
   ],
   "source": [
    "data_reduced"
   ]
  },
  {
   "cell_type": "code",
   "execution_count": 675,
   "id": "172f5fc0",
   "metadata": {},
   "outputs": [],
   "source": [
    "pc0 = PC0.tolist()\n",
    "pc1 = PC1.tolist()\n",
    "pca = pd.DataFrame({'PC0': pc0,'PC1': pc1,'Class': dataset['Class']})"
   ]
  },
  {
   "cell_type": "code",
   "execution_count": 676,
   "id": "62290d79",
   "metadata": {},
   "outputs": [
    {
     "data": {
      "image/png": "[encoded data removed]",
      "text/plain": [
       "<Figure size 640x480 with 1 Axes>"
      ]
     },
     "metadata": {},
     "output_type": "display_data"
    },
    {
     "name": "stdout",
     "output_type": "stream",
     "text": [
      "\n"
     ]
    }
   ],
   "source": [
    "print (\n",
    "    p9.ggplot(data = pca, mapping = p9.aes(x='PC0', y='PC1'))\n",
    " + p9.geom_point(p9.aes(x = 'PC0', y = 'PC1', color = 'Class'))\n",
    " + p9.labs(title = \"Two Dimensional PCA Scatter Plot\")\n",
    ")"
   ]
  },
  {
   "cell_type": "markdown",
   "id": "d8989c7f",
   "metadata": {},
   "source": [
    "#### Comment on what the graph suggests about the effeciveness of using k-nearest neighbors on this 2-dimensional reduction of the data to predict the type of rice. \n",
    "\n",
    "We can somewhat see two clusters in the graphs, but there is no clear demarcation of the two clusters. The k-nearest neighbors might not an effective method to classify the data points. The region from -2 to 1 on the x-axis shows some overlap between the points of class \"Cammeo\" or \"Osmancik\" which can lead to inaccurate prediction of the type of rice.  "
   ]
  },
  {
   "cell_type": "markdown",
   "id": "eb11db4a",
   "metadata": {},
   "source": [
    "### Implementation of the KNN algorithm and Quad Tree\n",
    "\n",
    "Citations :\n",
    "- https://katherinepully.com/quadtree-python/\n",
    "- https://www.geeksforgeeks.org/quad-tree/\n",
    "\n",
    "Contructing a quadtree from a two-dimensional area using the following steps:\n",
    "\n",
    "1.Divide the current two dimensional space into four boxes.<br>\n",
    "2.If a box contains one or more points in it, create a child object, storing in it the two dimensional space of the box. <br>\n",
    "3.If a box does not contain any points, do not create a child for it. <br>\n",
    "4.Recurse for each of the children."
   ]
  },
  {
   "cell_type": "code",
   "execution_count": 677,
   "id": "5dcd1215",
   "metadata": {},
   "outputs": [],
   "source": [
    "indices = [i for i in range(len(PC0))]\n",
    "data_knn = np.array([PC0,PC1,indices])"
   ]
  },
  {
   "cell_type": "code",
   "execution_count": 678,
   "id": "ee97e6af",
   "metadata": {},
   "outputs": [
    {
     "data": {
      "text/plain": [
       "array([[ 3.81212784e+00,  2.47683257e+00,  2.63820924e+00, ...,\n",
       "        -4.36626685e-01, -3.58746234e+00, -2.55575212e+00],\n",
       "       [-2.16504685e+00,  4.52901938e-02, -6.21533719e-01, ...,\n",
       "         1.03580824e-01, -3.75652326e-01,  3.36079599e+00],\n",
       "       [ 0.00000000e+00,  1.00000000e+00,  2.00000000e+00, ...,\n",
       "         3.80700000e+03,  3.80800000e+03,  3.80900000e+03]])"
      ]
     },
     "execution_count": 678,
     "metadata": {},
     "output_type": "execute_result"
    }
   ],
   "source": [
    "data_knn"
   ]
  },
  {
   "cell_type": "code",
   "execution_count": 679,
   "id": "7c05a4db",
   "metadata": {},
   "outputs": [],
   "source": [
    "\n",
    "class QTree:\n",
    "\n",
    "    def __init__(self,bounding_box,data,height = 0,max_leaf_data = 3):\n",
    "      \n",
    "    \n",
    "        self.xlo = min(bounding_box[0][0],bounding_box[1][0],bounding_box[2][0],bounding_box[3][0])\n",
    "        self.xhi = max(bounding_box[0][0],bounding_box[1][0],bounding_box[2][0],bounding_box[3][0])\n",
    "        self.ylo = min(bounding_box[0][1],bounding_box[1][1],bounding_box[2][1],bounding_box[3][1])\n",
    "        self.yhi = max(bounding_box[0][1],bounding_box[1][1],bounding_box[2][1],bounding_box[3][1])\n",
    "        self.leafNode = False\n",
    "        self.height = height\n",
    "        self.points = []\n",
    "        self.add(data)\n",
    "        self.numPoints = len(self.points[0])\n",
    "        \n",
    "        if(self.numPoints<= max_leaf_data):\n",
    "            self.leafNode = True\n",
    "            return\n",
    "        \n",
    "\n",
    "        self.x_median = np.median(self.points[0])\n",
    "        self.y_median = np.median(self.points[1])\n",
    "\n",
    "        \n",
    "        bounding_box_ul = [bounding_box[0],(self.xlo,self.y_median),(self.x_median,self.yhi),(self.x_median,self.y_median)]\n",
    "        bounding_box_lr = [(self.x_median,self.y_median),(self.x_median,self.ylo),(self.xhi,self.y_median),bounding_box[3]]\n",
    "        bounding_box_ll = [(self.xlo,self.y_median),bounding_box[1],(self.x_median,self.y_median),(self.x_median,self.ylo)]\n",
    "        bounding_box_ur = [(self.x_median,self.yhi),(self.x_median,self.y_median),bounding_box[2],(self.xhi,self.y_median)]\n",
    "        self.URChild = QTree(bounding_box_ur,self.points,height = self.height + 1,max_leaf_data = max_leaf_data)\n",
    "        self.LRChild = QTree(bounding_box_lr,self.points,height = self.height + 1,max_leaf_data = max_leaf_data)\n",
    "        self.ULChild = QTree(bounding_box_ul,self.points,height = self.height + 1,max_leaf_data = max_leaf_data)\n",
    "        self.LLChild = QTree(bounding_box_ll,self.points,height = self.height + 1,max_leaf_data = max_leaf_data)\n",
    "        self.children = [self.ULChild,self.LLChild,self.URChild,self.LRChild]\n",
    "\n",
    "        if(self.leafNode == False):\n",
    "            del self.points\n",
    "\n",
    "    def contains(self,x,y):    \n",
    "        if((self.xlo <= x) and (x < self.xhi) and (self.ylo <= y) and (y < self.yhi)):\n",
    "            return True\n",
    "        return False\n",
    "\n",
    "    def add(self,data):\n",
    "        points_x = []\n",
    "        points_y = []\n",
    "        points_indices = []\n",
    "        for i in range(0,len(data[0])):\n",
    "            \n",
    "            if(self.contains(data[0][i],data[1][i])):\n",
    "                points_x.append(data[0][i])\n",
    "                points_y.append(data[1][i])\n",
    "                points_indices.append(data[2][i])\n",
    "        \n",
    "        self.points = np.array([points_x,points_y,points_indices],dtype = float)\n",
    "    \n",
    "    def getPoints(self):\n",
    "        if(self.leafNode):\n",
    "            return self.points\n",
    "        \n",
    "        return np.concatenate((self.ULChild.getPoints(),self.LLChild.getPoints(),self.URChild.getPoints(),self.LRChild.getPoints()),axis = 1)\n",
    "    \n",
    "    def Distance(self,x,y,xp,yp):\n",
    "        return np.linalg.norm((x-xp,y-yp))\n",
    "    \n",
    "    def getHeight(self):\n",
    "        if(self.leafNode):\n",
    "            return self.height\n",
    "        return max(self.ULChild.getHeight(),self.LLChild.getHeight(),self.URChild.getHeight(),self.LRChild.getHeight())\n",
    "        \n",
    "        \n",
    "    def BBox(self,d,x,y):\n",
    "        if(self.contains(x,y)):\n",
    "            return True\n",
    "        if(x<=self.xlo):\n",
    "            if(y<=self.ylo):\n",
    "                d_first = self.Distance(x,y,self.xlo,self.ylo)\n",
    "                if(d_first<=d):\n",
    "                    return True\n",
    "            elif(y>=self.yhi):\n",
    "                d_first = self.Distance(x,y,self.xlo,self.yhi)\n",
    "                if(d_first<=d):\n",
    "                    return True\n",
    "            else:\n",
    "                d_first = self.Distance(x,y,self.xlo,y)\n",
    "                if(d_first<=d):\n",
    "                    return True\n",
    "\n",
    "        elif(x>self.xhi):\n",
    "            if(y<=self.ylo):\n",
    "                d_first = self.Distance(x,y,self.xhi,self.ylo)\n",
    "                if(d_first<=d):\n",
    "                    return True\n",
    "            elif(y>=self.yhi):\n",
    "                d_first = self.Distance(x,y,self.xhi,self.yhi)\n",
    "                if(d_first<=d):\n",
    "                    return True\n",
    "            else:\n",
    "                d_first = self.Distance(x,y,self.xhi,y)\n",
    "                if(d_first<=d):\n",
    "                    return True\n",
    "\n",
    "        else:\n",
    "            if(y<=self.ylo):\n",
    "                d_first = self.Distance(x,y,x,self.ylo)\n",
    "                if(d_first<=d):\n",
    "                    return True\n",
    "            elif(y>=self.ylo):\n",
    "                d_first = self.Distance(x,y,x,self.yhi)\n",
    "                if(d_first<=d):\n",
    "                    return True\n",
    "\n",
    "        return False\n",
    "    \n",
    "\n",
    "    def within_distance(self,d,x,y):\n",
    "        if(self.leafNode):\n",
    "            if(self.BBox(d,x,y)):\n",
    "                return self.points\n",
    "            else:\n",
    "                return np.array([[],[],[]])\n",
    "        return np.concatenate((self.ULChild.within_distance(d,x,y),self.LLChild.within_distance(d,x,y),self.URChild.within_distance(d,x,y),self.LRChild.within_distance(d,x,y)),axis = 1)\n",
    "    \n",
    "    def get_data_in_range(self,k,x,y):\n",
    "        if(self.leafNode):\n",
    "            return self\n",
    "       \n",
    "        \n",
    "        for child in self.children:\n",
    "            if(child.contains(x,y)):\n",
    "                if(child.numPoints>=k):\n",
    "                    return child.get_data_in_range(k,x,y)\n",
    "                else:\n",
    "                    return self\n"
   ]
  },
  {
   "cell_type": "code",
   "execution_count": 680,
   "id": "d5f59f63",
   "metadata": {},
   "outputs": [],
   "source": [
    "def getQuadTree(data_knn,max_leaf_data = 3):\n",
    "    xlo = min(data_knn[0]) - 2\n",
    "    xhi= max(data_knn[0]) + 2\n",
    "    ylo = min(data_knn[1]) - 2\n",
    "    yhi = max(data_knn[1]) + 2\n",
    "    bounding_box = [(xlo,yhi),(xlo,ylo),(xhi,yhi),(xhi,ylo)]\n",
    "    q1 = QTree(bounding_box,data_knn,height = 0,max_leaf_data=max_leaf_data)\n",
    "    return q1"
   ]
  },
  {
   "cell_type": "markdown",
   "id": "94dcbf84",
   "metadata": {},
   "source": [
    "### Implementing k nearest neighbors using QuadTree\n",
    "\n",
    "- Step 1 : Determine parameter k = number of nearest neighbors\n",
    "- Step 2 : Calculate the distance between the query-instance and all the training samples (The most commonly used method to calculate distance is Euclidean)\n",
    "- Step 3 : Sort the distance and determine the nearest neighbors based on the kth minimum distance \n",
    "- Step 4 : Gather the category Y of the nearest neighbors\n",
    "- Step 5 : Use majority voting of the category of the nearest neighnors as the prediction value.\n",
    "\n",
    "\n",
    "Reference : \n",
    "- https://serokell.io/blog/knn-algorithm-in-ml\n",
    "- https://people.revoledu.com/kardi/tutorial/KNN/KNN_Numerical-example.html\n",
    "-https://www.tutorialspoint.com/machine_learning_with_python/machine_learning_with_python_knn_algorithm_finding_nearest_neighbors.htm\n",
    "\n",
    "numpy.argpartition() function is used to create a indirect partitioned copy of input array with its elements rearranged in such a way that the value of the element in k-th position is in the position it would be in a sorted array. All elements smaller than the k-th element are moved before this element and all equal or greater are moved behind it (https://www.geeksforgeeks.org/numpy-argpartition-in-python/)"
   ]
  },
  {
   "cell_type": "code",
   "execution_count": 681,
   "id": "4df26b8c",
   "metadata": {},
   "outputs": [],
   "source": [
    "def knn_quad(k,x,y,quadtree):\n",
    "    BoundingBox = quadtree.get_data_in_range(k,x,y)\n",
    "    points =  BoundingBox.getPoints()\n",
    "    Euclideandistance = []\n",
    "   \n",
    "    for i in range(len(points[0])):\n",
    "        dist = BoundingBox.Distance(x,y,points[0][i],points[1][i])\n",
    "        Euclideandistance.append(dist)\n",
    "    k_smallest_indices = np.argpartition(Euclideandistance, k-1)[:k]\n",
    "   \n",
    "  \n",
    "    kth_dist = Euclideandistance[k_smallest_indices[-1]]\n",
    "    points2 = quadtree.within_distance(kth_dist,x,y)\n",
    "    Euclideandistance2 = []\n",
    "    \n",
    "    for j in range(len(points2[0])):\n",
    "        dist = BoundingBox.Distance(x,y,points2[0][j],points2[1][j])\n",
    "        Euclideandistance2.append(dist)\n",
    "    k_smallest_indices_2 = np.argpartition(Euclideandistance2, k-1)[:k]\n",
    "    value = [points2[:,i] for i in k_smallest_indices_2]\n",
    "    return value"
   ]
  },
  {
   "cell_type": "code",
   "execution_count": 682,
   "id": "68c7512b",
   "metadata": {},
   "outputs": [],
   "source": [
    "def get_Indices(arr_points):\n",
    "    indices_arr = []\n",
    "    for i in range(len(arr_points)):\n",
    "        indices_arr.append(int(arr_points[i][2]))\n",
    "    return np.array(indices_arr,dtype = int)"
   ]
  },
  {
   "cell_type": "code",
   "execution_count": 683,
   "id": "87fb3244",
   "metadata": {},
   "outputs": [],
   "source": [
    "def knn_points(k,known_neighbors,x,y):\n",
    "    test_neighbors = np.array([[x,y]])\n",
    "    Euclideandistance = []\n",
    "\n",
    "    for i in range(len(known_neighbors[0])):\n",
    "        neighbors = known_neighbors[:,i]\n",
    "      \n",
    "        Euclideandistance.append(np.linalg.norm(test_neighbors - neighbors))\n",
    "    \n",
    "    \n",
    "    k_smallest_indices = np.argpartition(Euclideandistance, k)[:k]\n",
    "    return k_smallest_indices,Euclideandistance"
   ]
  },
  {
   "cell_type": "markdown",
   "id": "dda9e2a6",
   "metadata": {},
   "source": [
    "#### Creating a function to get majority vote as For classification: A class label assigned to the majority of K Nearest Neighbors from the training dataset is considered as a predicted class for the new data point. \n",
    "\n",
    "Reference : https://www.analyticsvidhya.com/blog/2021/04/simple-understanding-and-implementation-of-knn-algorithm/"
   ]
  },
  {
   "cell_type": "code",
   "execution_count": 684,
   "id": "b69139a5",
   "metadata": {},
   "outputs": [],
   "source": [
    "def majority_vote(y):\n",
    "    values,counts = np.unique(y,return_counts=True)\n",
    "    indices = np.argmax(counts)\n",
    "    return values[indices]"
   ]
  },
  {
   "cell_type": "markdown",
   "id": "4d2bfae1",
   "metadata": {},
   "source": [
    "### Reasonable train-test split \n",
    "\n",
    "If the dataset is relatively small (n < 10,000), 70:30 would be a suitable choice.\n",
    "\n",
    "However, for smaller datasets (n < 1,000), each observation is extremely valuable, and we can’t spare any for validation. In this case, k-fold cross-validation is a better choice than the holdout method. This method is computationally expensive. Yet it offers an effective model evaluation over a small dataset by training multiple models.\n",
    "\n",
    "Reference : https://www.baeldung.com/cs/train-test-datasets-ratio\n",
    "\n",
    "\n",
    "### Confusion Matrix when k = 1 or k = 5 using k-fold cross-validation\n",
    "\n",
    "Cross Validation is the procedure which has a single parameter called k that refers to the number of groups that a given data sample is to be split into. The value for k is chosen such that each train/test group of data samples is large enough to be statistically representative of the broader dataset. The choice of k is usually 5 or 10, but there is no formal rule. Cross-validation gives the model an opportunity to test on multiple splits so we can get a better idea on how the model will perform on unseen data.\n",
    "\n",
    "\n",
    "Cross Validation Citation : https://towardsdatascience.com/cross-validation-using-knn-6babb6e619c8"
   ]
  },
  {
   "cell_type": "markdown",
   "id": "0478eea4",
   "metadata": {},
   "source": [
    "#### Confusion Matrix when k = 1 using k-fold cross-validation"
   ]
  },
  {
   "cell_type": "code",
   "execution_count": 685,
   "id": "94ddc05d",
   "metadata": {},
   "outputs": [
    {
     "name": "stdout",
     "output_type": "stream",
     "text": [
      "The confusion matrix when k =1 is:\n"
     ]
    },
    {
     "data": {
      "image/png": "[encoded data removed]",
      "text/plain": [
       "<Figure size 640x480 with 2 Axes>"
      ]
     },
     "metadata": {},
     "output_type": "display_data"
    },
    {
     "name": "stdout",
     "output_type": "stream",
     "text": [
      "Classification Report:\n",
      "              precision    recall  f1-score   support\n",
      "\n",
      "      Cammeo       0.87      0.87      0.87      1630\n",
      "    Osmancik       0.90      0.90      0.90      2180\n",
      "\n",
      "    accuracy                           0.89      3810\n",
      "   macro avg       0.89      0.89      0.89      3810\n",
      "weighted avg       0.89      0.89      0.89      3810\n",
      "\n",
      "Accuracy Score:\n",
      "0.8892388451443569\n"
     ]
    }
   ],
   "source": [
    "pca = decomposition.PCA(n_components=2)\n",
    "kfold = KFold(10,shuffle = True,random_state = 1)\n",
    "scaler = StandardScaler()\n",
    "counter = 0\n",
    "\n",
    "Value_Pred = []\n",
    "Value_True = []\n",
    "First_Value = []\n",
    "\n",
    "for train,test in (kfold.split(data_knn[2])):\n",
    "    X_train_raw = dataset.iloc[train,0:7]\n",
    "    X_test_raw = dataset.iloc[test,0:7]\n",
    "    scaler.fit(X_train_raw)\n",
    "    X_train_std = scaler.transform(X_train_raw)\n",
    "    X_test_std = scaler.transform(X_test_raw)\n",
    "    train_data_reduced = pca.fit_transform(X_train_std)\n",
    "    test_data_reduced = pca.transform(X_test_std)\n",
    "    train_data = np.array([train_data_reduced[:,0],train_data_reduced[:,1],train])\n",
    "    test_data = np.array([test_data_reduced[:,0],test_data_reduced[:,1],test])\n",
    "    \n",
    "    quad_train = getQuadTree(train_data)\n",
    "    \n",
    "    for i in test:\n",
    "        \n",
    "        value_1 = knn_quad(1,test_data[0,test_data[2] == i],test_data[1,test_data[2] == i],quad_train)\n",
    "        First_Value.append(value_1)\n",
    "        k_smallest_indices = get_Indices(value_1)\n",
    "        y_points = y[k_smallest_indices]\n",
    "        value_pred = majority_vote(y_points)\n",
    "        value_true = y[i]\n",
    "        Value_Pred.append(value_pred)\n",
    "        Value_True.append(value_true)\n",
    "        \n",
    "    \n",
    "    counter+=1\n",
    "    \n",
    "print(\"The confusion matrix when k =1 is:\")\n",
    "cm = confusion_matrix(Value_True,Value_Pred)\n",
    "sns.heatmap(cm,annot=True, linewidths= 0.5, linecolor=\"red\", fmt=\".0f\")  \n",
    "plt.xlabel(\"Predicted Values\")\n",
    "plt.ylabel(\"True Values\")\n",
    "plt.show()\n",
    "print(\"Classification Report:\")\n",
    "print(classification_report(Value_True,Value_Pred))\n",
    "print(\"Accuracy Score:\")\n",
    "print(accuracy_score(Value_True,Value_Pred))"
   ]
  },
  {
   "cell_type": "markdown",
   "id": "51c39a9d",
   "metadata": {},
   "source": [
    "#### Confusion Matrix when k = 5 using k-fold cross-validation"
   ]
  },
  {
   "cell_type": "code",
   "execution_count": 686,
   "id": "8a46a043",
   "metadata": {},
   "outputs": [
    {
     "name": "stdout",
     "output_type": "stream",
     "text": [
      "The confusion matrix when k = 5 is:\n"
     ]
    },
    {
     "data": {
      "image/png": "[encoded data removed]",
      "text/plain": [
       "<Figure size 640x480 with 2 Axes>"
      ]
     },
     "metadata": {},
     "output_type": "display_data"
    },
    {
     "name": "stdout",
     "output_type": "stream",
     "text": [
      "Classification Report:\n",
      "              precision    recall  f1-score   support\n",
      "\n",
      "      Cammeo       0.87      0.88      0.88      1610\n",
      "    Osmancik       0.91      0.91      0.91      2200\n",
      "\n",
      "    accuracy                           0.90      3810\n",
      "   macro avg       0.89      0.89      0.89      3810\n",
      "weighted avg       0.90      0.90      0.90      3810\n",
      "\n",
      "Accuracy Score:\n",
      "0.8952755905511811\n"
     ]
    }
   ],
   "source": [
    "pca = decomposition.PCA(n_components=2)\n",
    "kfold = KFold(10,shuffle = True,random_state = 1)\n",
    "scaler = StandardScaler()\n",
    "counter = 0\n",
    "\n",
    "Value_Pred = []\n",
    "Value_True = []\n",
    "First_Value = []\n",
    "\n",
    "for train_index,test_index in (kfold.split(data_knn[2])):\n",
    "    X_train_raw = dataset.iloc[train_index,0:7]\n",
    "    X_test_raw = dataset.iloc[test_index,0:7]\n",
    "    scaler.fit(X_train_raw)\n",
    "    X_train_std = scaler.transform(X_train_raw)\n",
    "    X_test_std = scaler.transform(X_test_raw)\n",
    "    train_data_reduced = pca.fit_transform(X_train_std)\n",
    "    test_data_reduced = pca.transform(X_test_std)\n",
    "    train_data = np.array([train_data_reduced[:,0],train_data_reduced[:,1],train])\n",
    "    test_data = np.array([test_data_reduced[:,0],test_data_reduced[:,1],test])\n",
    "    \n",
    "    quad_train = getQuadTree(train_data)\n",
    "    \n",
    "    for i in test:\n",
    "        \n",
    "        value_5 = knn_quad(5,test_data[0,test_data[2] == i],test_data[1,test_data[2] == i],quad_train)\n",
    "        First_Value.append(value_5)\n",
    "        k_smallest_indices = get_Indices(value_5)\n",
    "        y_points = y[k_smallest_indices]\n",
    "        value_pred = majority_vote(y_points)\n",
    "        value_true = y[i]\n",
    "        Value_Pred.append(value_pred)\n",
    "        Value_True.append(value_true)\n",
    "        \n",
    "    \n",
    "    counter+=1\n",
    "    \n",
    "print(\"The confusion matrix when k = 5 is:\")\n",
    "cm = confusion_matrix(Value_True,Value_Pred)\n",
    "sns.heatmap(cm,annot=True, linewidths= 0.5, linecolor=\"red\", fmt=\".0f\")  \n",
    "plt.xlabel(\"Predicted Values\")\n",
    "plt.ylabel(\"True Values\")\n",
    "plt.show()\n",
    "print(\"Classification Report:\")\n",
    "print(classification_report(Value_True,Value_Pred))\n",
    "print(\"Accuracy Score:\")\n",
    "print(accuracy_score(Value_True,Value_Pred))"
   ]
  },
  {
   "cell_type": "markdown",
   "id": "519bffe3",
   "metadata": {},
   "source": [
    "#### Brief interpretation of what the confusion matrix results mean.\n",
    "\n",
    "Confusion Matrix is a method of summarizing a classification algorithm’s performance. It is simply a summarized table of the number of correct and incorrect predictions. Calculating a confusion matrix can give us a better idea about the miss-classified classes. It is a square matrix where the column reflects actual values and the row represents the model’s predicted value or vice versa. rows show actual values and columns indicate predicted values. \n",
    "\n",
    "- TP = A true positive is an outcome where the model correctly predicts the positive class.\n",
    "- FP = The model predicted True and it is false.\n",
    "- TN = The model predicted false and it is false.\n",
    "- FN = The model predicted false and it is true.\n",
    "\n",
    "When k = 1, the confusion matrix is (1419 211 211 1969). We can see that 1630 out of 1419 true classes were classified correctly i.e the model classified the type of rice as the data itself (TP). At the same time, 211 of them were placed incorrectly (FP), and 2180 out of 1969 false classes were classified correctly (TN), while 211 of them were misclassified (FN). The accuracy score of the model is 88.9%. \n",
    "\n",
    "When k = 5, the confusion matrix is (1418 192 207 1993). We can see that 1610 out of 1418 true classes were classified correctly i.e the model classified the type of rice as the data itself (TP). At the same time, 192 of them were placed incorrectly (FP), and 2200 out of 1993 false classes were classified correctly (TN), while 207 of them were misclassified (FN). The accuracy score of the model is 89.5%. \n",
    "\n",
    "Insights :\n",
    "- As k increases the the accuracy of the model increases. \n",
    "- The precision of clasiifying Rice Type : Osmancik is more than Cammeo in both the models. "
   ]
  },
  {
   "cell_type": "markdown",
   "id": "c6c54516",
   "metadata": {},
   "source": [
    "#### Confusion matrix for predicting the type of rice with k=1 using train-test split - Using pre-existing library"
   ]
  },
  {
   "cell_type": "code",
   "execution_count": 687,
   "id": "a12c6af9",
   "metadata": {},
   "outputs": [],
   "source": [
    "X = dataset.iloc[:,0:7]"
   ]
  },
  {
   "cell_type": "code",
   "execution_count": 688,
   "id": "f6737b7c",
   "metadata": {},
   "outputs": [],
   "source": [
    "y = dataset['Class']"
   ]
  },
  {
   "cell_type": "code",
   "execution_count": 689,
   "id": "96053357",
   "metadata": {},
   "outputs": [],
   "source": [
    "scaler = StandardScaler()\n",
    "scaler.fit(X_train)\n",
    "X_train1 = scaler.transform(X_train)\n",
    "X_test1 = scaler.transform(X_test)"
   ]
  },
  {
   "cell_type": "code",
   "execution_count": 690,
   "id": "54573ddf",
   "metadata": {},
   "outputs": [],
   "source": [
    "PCA = decomposition.PCA(n_components=2)"
   ]
  },
  {
   "cell_type": "code",
   "execution_count": 691,
   "id": "27a32e14",
   "metadata": {},
   "outputs": [],
   "source": [
    "X_train = PCA.fit_transform(X_train1)"
   ]
  },
  {
   "cell_type": "code",
   "execution_count": 692,
   "id": "392b376e",
   "metadata": {},
   "outputs": [],
   "source": [
    "X_test = PCA.transform(X_test1)"
   ]
  },
  {
   "cell_type": "code",
   "execution_count": 693,
   "id": "a4ecec2b",
   "metadata": {},
   "outputs": [],
   "source": [
    "X_train, X_test, y_train, y_test = train_test_split(X, y, test_size = 0.20)"
   ]
  },
  {
   "cell_type": "code",
   "execution_count": 694,
   "id": "8d43f26f",
   "metadata": {},
   "outputs": [
    {
     "data": {
      "text/plain": [
       "KNeighborsClassifier(n_neighbors=1)"
      ]
     },
     "execution_count": 694,
     "metadata": {},
     "output_type": "execute_result"
    }
   ],
   "source": [
    "classifier = KNeighborsClassifier(n_neighbors = 1)\n",
    "classifier.fit(X_train, y_train)"
   ]
  },
  {
   "cell_type": "code",
   "execution_count": 695,
   "id": "7cd2bf6c",
   "metadata": {},
   "outputs": [],
   "source": [
    "y_pred = classifier.predict(X_test)"
   ]
  },
  {
   "cell_type": "code",
   "execution_count": 696,
   "id": "db105399",
   "metadata": {},
   "outputs": [
    {
     "name": "stdout",
     "output_type": "stream",
     "text": [
      "Confusion Matrix:\n",
      "[[ 658  123]\n",
      " [ 113 1011]]\n",
      "Classification Report:\n",
      "              precision    recall  f1-score   support\n",
      "\n",
      "      Cammeo       0.85      0.84      0.85       781\n",
      "    Osmancik       0.89      0.90      0.90      1124\n",
      "\n",
      "    accuracy                           0.88      1905\n",
      "   macro avg       0.87      0.87      0.87      1905\n",
      "weighted avg       0.88      0.88      0.88      1905\n",
      "\n",
      "Accuracy: 0.8761154855643044\n"
     ]
    }
   ],
   "source": [
    "result = confusion_matrix(y_test, y_pred)\n",
    "print(\"Confusion Matrix:\")\n",
    "print(result)\n",
    "result1 = classification_report(y_test, y_pred)\n",
    "print(\"Classification Report:\",)\n",
    "print (result1)\n",
    "result2 = accuracy_score(y_test,y_pred)\n",
    "print(\"Accuracy:\",result2)"
   ]
  },
  {
   "cell_type": "markdown",
   "id": "191604dd",
   "metadata": {},
   "source": [
    "#### Confusion matrix for predicting the type of rice with k=5 using train-test split."
   ]
  },
  {
   "cell_type": "code",
   "execution_count": 697,
   "id": "8b386a62",
   "metadata": {},
   "outputs": [],
   "source": [
    "X = dataset.iloc[:,0:7]"
   ]
  },
  {
   "cell_type": "code",
   "execution_count": 698,
   "id": "74aabf01",
   "metadata": {},
   "outputs": [],
   "source": [
    "y = np.array(dataset.iloc[:,-1])"
   ]
  },
  {
   "cell_type": "code",
   "execution_count": 699,
   "id": "5cd3dd71",
   "metadata": {},
   "outputs": [],
   "source": [
    "X_train, X_test, y_train, y_test = train_test_split(X, y, test_size = 0.20)"
   ]
  },
  {
   "cell_type": "code",
   "execution_count": 700,
   "id": "f551ce31",
   "metadata": {},
   "outputs": [],
   "source": [
    "scaler = StandardScaler()\n",
    "scaler.fit(X_train)\n",
    "X_train = scaler.transform(X_train)\n",
    "X_test = scaler.transform(X_test)"
   ]
  },
  {
   "cell_type": "code",
   "execution_count": 701,
   "id": "e9110219",
   "metadata": {},
   "outputs": [
    {
     "data": {
      "text/plain": [
       "KNeighborsClassifier()"
      ]
     },
     "execution_count": 701,
     "metadata": {},
     "output_type": "execute_result"
    }
   ],
   "source": [
    "classifier = KNeighborsClassifier(n_neighbors = 5)\n",
    "classifier.fit(X_train, y_train)"
   ]
  },
  {
   "cell_type": "code",
   "execution_count": 702,
   "id": "b9c0088c",
   "metadata": {},
   "outputs": [],
   "source": [
    "y_pred = classifier.predict(X_test)"
   ]
  },
  {
   "cell_type": "code",
   "execution_count": 703,
   "id": "e6535e6e",
   "metadata": {},
   "outputs": [
    {
     "name": "stdout",
     "output_type": "stream",
     "text": [
      "Confusion Matrix:\n",
      "[[588  61]\n",
      " [ 68 807]]\n",
      "Classification Report:\n",
      "              precision    recall  f1-score   support\n",
      "\n",
      "      Cammeo       0.90      0.91      0.90       649\n",
      "    Osmancik       0.93      0.92      0.93       875\n",
      "\n",
      "    accuracy                           0.92      1524\n",
      "   macro avg       0.91      0.91      0.91      1524\n",
      "weighted avg       0.92      0.92      0.92      1524\n",
      "\n",
      "Accuracy: 0.9153543307086615\n"
     ]
    }
   ],
   "source": [
    "result = confusion_matrix(y_test, y_pred)\n",
    "print(\"Confusion Matrix:\")\n",
    "print(result)\n",
    "result1 = classification_report(y_test, y_pred)\n",
    "print(\"Classification Report:\",)\n",
    "print (result1)\n",
    "result2 = accuracy_score(y_test,y_pred)\n",
    "print(\"Accuracy:\",result2)"
   ]
  }
 ],
 "metadata": {
  "kernelspec": {
   "display_name": "Python 3 (ipykernel)",
   "language": "python",
   "name": "python3"
  },
  "language_info": {
   "codemirror_mode": {
    "name": "ipython",
    "version": 3
   },
   "file_extension": ".py",
   "mimetype": "text/x-python",
   "name": "python",
   "nbconvert_exporter": "python",
   "pygments_lexer": "ipython3",
   "version": "3.9.13"
  }
 },
 "nbformat": 4,
 "nbformat_minor": 5
}

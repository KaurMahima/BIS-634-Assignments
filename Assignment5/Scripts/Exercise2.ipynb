{
 "cells": [
  {
   "cell_type": "markdown",
   "id": "98ab254f",
   "metadata": {},
   "source": [
    "## Exercise 2"
   ]
  },
  {
   "cell_type": "markdown",
   "id": "b4529064",
   "metadata": {},
   "source": [
    "Describe your plan for your final project. I won't hold you to this, but it's good to have a plan. What's your data? (4 points) What analyses do you want to run and why are they interesting? (4 points) Which ones will be interactive, where the user can provide a parameter? (4 points; there must be at least one). What graphs will you make? (4 points) Describe how you want your website to work. (4 points) What do you see as your biggest challenge to completing this, and how do you expect to overcome this challenge? (5 points)"
   ]
  },
  {
   "cell_type": "markdown",
   "id": "7a45efba",
   "metadata": {},
   "source": [
    "## Response "
   ]
  },
  {
   "cell_type": "markdown",
   "id": "f2cbbefd",
   "metadata": {},
   "source": [
    "Q1.What's your data?\n",
    "\n",
    "I have decided to work on Diabetes Health Indictor BRFSS2015 dataset. It is a clean dataset of 253,680 survey responses to the CDC's BRFSS2015. This dataset has 21 feature variables.It is a subset of the original data. It was cleaned and consolidated dataset created from the BRFSS 2015 dataset already on Kaggle.The dataset was released by the CDC. The original dataset is provided by CDC from Kaggle public data repositories, named Behavioral Risk Factor Surveillance System The metadata of the dataset is available and licensed on Kaggle. Alex Teboul created the subset of the data and made it available on Kaggle for public use. The Dataset had 70692 rows and 22 columns.The variables include Diabetes status, HighBP, HighChol, CholCheck, BMI, Smoking status, Stroke Status, HeartDiseaseorAttack, PhysActivity, Fruits intake, Veggies intake,HvyAlcoholConsump, AnyHealthcare, NoDocbcCost, General health, Mental Health, Physical Activity, Difficulty in Walking, Gender, Income, Education Level and Age.     "
   ]
  },
  {
   "cell_type": "markdown",
   "id": "222c6ac1",
   "metadata": {},
   "source": [
    "Q2. What analyses do you want to run and why are they interesting? \n",
    "\n",
    "I plan to do descriptive and predictive analysis. Through the descriptve analysis we will able to find the which age group, gender, eductaion level etc is more prone to be diabetic. It is interesting to see such analysis as they will give an insight to develop targetted and evidence based intervention to lower the prevalence of diabetes. Additionally, I will do find correlation analysis between diabetes and other variables in the dataset. I also aim to find the risk factors most predictive of diabetes  which will help to classify the people whether they will have diabetes or not. I am planning to perfrom logostic regression, decision tree and random forest algorithm. In the end, I will see which algorithm had the highest accuracy to classify the patients. This is quite interesting to see as it can help individuals modify the variable leading to an increase in the risk of being diabetic. "
   ]
  },
  {
   "cell_type": "markdown",
   "id": "37e8fe12",
   "metadata": {},
   "source": [
    "Q3. Which ones will be interactive, where the user can provide a parameter?\n",
    "\n",
    "The random forest algorithm will be interactive. The Web application build using flask would help the users the give the parameters and based on those attributes the model will predict whether the person can be diabetetic or not. Additionally, I plan to make some graphs intercative in the sense that it will show the text when clicked on certain points. "
   ]
  },
  {
   "cell_type": "markdown",
   "id": "dd3fdcd5",
   "metadata": {},
   "source": [
    "Q4. What graphs will you make?\n",
    "\n",
    "I plan to make the following graphs :\n",
    "a. Frequency distribution graphs of all the 22 variables.\n",
    "b. Stratified graphs of diabetic and non-dabetic individuals v/s all the other variables. \n",
    "c. Correlation Matrix. \n",
    "d. Confusion Matrix of the algorithms. "
   ]
  },
  {
   "cell_type": "markdown",
   "id": "7742b41f",
   "metadata": {},
   "source": [
    "Q5. Describe how you want your website to work.\n",
    "\n",
    "Firstly the website will display some insights and prevalence of diabetes and other risk factors in US. There would be different tabs for each parameter such as Home, about the dataset,summary, descriptive analysis, and Predictive analysis. The Web application build using flask would help the users the give the parameters and based on those attributes the model will predict whether the person can be diabetetic or not. "
   ]
  },
  {
   "cell_type": "markdown",
   "id": "0e326115",
   "metadata": {},
   "source": [
    "Q6. What do you see as your biggest challenge to completing this, and how do you expect to overcome this challenge?\n",
    "\n",
    "The first challenge which I faced was to find a good dataset. Secondly, it was challenging to to come to a conlusion about the type of analysis to be done on the dataset and whether to remove any outliers from the dataset. Thirdly, it is my first project in which I would be deploying and building a Web application using flask.Even though it is a challenge right now, I think it would be a great skill to learn and I am excited about it!\n",
    "\n",
    "I explored a lot of dataset to find the one which is interesting to me. I decided not to remove any outliers from the data as I find those points would be helpful in determining the predictors of diabetes.For the third challenge, I believe that the resources shared,hands-on experience in class regarding flask and the assignment question would be helpful to overcome the challenge. "
   ]
  }
 ],
 "metadata": {
  "kernelspec": {
   "display_name": "Python 3 (ipykernel)",
   "language": "python",
   "name": "python3"
  },
  "language_info": {
   "codemirror_mode": {
    "name": "ipython",
    "version": 3
   },
   "file_extension": ".py",
   "mimetype": "text/x-python",
   "name": "python",
   "nbconvert_exporter": "python",
   "pygments_lexer": "ipython3",
   "version": "3.9.13"
  }
 },
 "nbformat": 4,
 "nbformat_minor": 5
}

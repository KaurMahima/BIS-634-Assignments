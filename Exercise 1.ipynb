{
 "cells": [
  {
   "cell_type": "markdown",
   "id": "ff70afa9",
   "metadata": {},
   "source": [
    "# Exercise1"
   ]
  },
  {
   "cell_type": "markdown",
   "id": "32c95174",
   "metadata": {},
   "source": [
    "Question.  Write a function temp_tester that takes a definition of normal body temperature and returns a function that returns True if its argument is within 1 degree of normal temperature and False if not."
   ]
  },
  {
   "cell_type": "code",
   "execution_count": 6,
   "id": "3e584a0d",
   "metadata": {},
   "outputs": [],
   "source": [
    "##Creating a function to assess whether a given body temperature is normal or not in terms of True or False. \n",
    "\n",
    "def temp_tester(temp):\n",
    "\n",
    "  def inner_function(x):\n",
    "    if x <= temp + 1 and x >= temp -1:\n",
    "      return True\n",
    "    else:\n",
    "      return False\n",
    "     \n",
    "  return inner_function"
   ]
  },
  {
   "cell_type": "code",
   "execution_count": 7,
   "id": "b925a86b",
   "metadata": {},
   "outputs": [],
   "source": [
    "##Normal Body Temperature Values in ℃\n",
    "\n",
    "human_tester = temp_tester(37) \n",
    "chicken_tester = temp_tester(41.1)"
   ]
  },
  {
   "cell_type": "markdown",
   "id": "07d85383",
   "metadata": {},
   "source": [
    "Test the function:  \n",
    "chicken_tester(42) # True -- i.e. not a fever for a chicken  \n",
    "human_tester(42)   # False -- this would be a severe fever for a human  \n",
    "chicken_tester(43) # False  \n",
    "human_tester(35)   # False -- too low  \n",
    "human_tester(98.6) # False -- normal in degrees F but our reference temp was in degrees C  \n"
   ]
  },
  {
   "cell_type": "code",
   "execution_count": 8,
   "id": "1aeba3f5",
   "metadata": {},
   "outputs": [
    {
     "name": "stdout",
     "output_type": "stream",
     "text": [
      "True\n",
      "False\n",
      "False\n",
      "False\n",
      "False\n"
     ]
    }
   ],
   "source": [
    "## Testing the function\n",
    "\n",
    "print(chicken_tester(42))\n",
    "print(human_tester(42))\n",
    "print(chicken_tester(43))\n",
    "print(human_tester(35))  \n",
    "print(human_tester(98.6))"
   ]
  }
 ],
 "metadata": {
  "kernelspec": {
   "display_name": "Python 3 (ipykernel)",
   "language": "python",
   "name": "python3"
  },
  "language_info": {
   "codemirror_mode": {
    "name": "ipython",
    "version": 3
   },
   "file_extension": ".py",
   "mimetype": "text/x-python",
   "name": "python",
   "nbconvert_exporter": "python",
   "pygments_lexer": "ipython3",
   "version": "3.9.12"
  }
 },
 "nbformat": 4,
 "nbformat_minor": 5
}
